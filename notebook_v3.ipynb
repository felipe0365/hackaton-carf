{
  "nbformat": 4,
  "nbformat_minor": 0,
  "metadata": {
    "colab": {
      "provenance": [],
      "toc_visible": true
    },
    "kernelspec": {
      "name": "python3",
      "display_name": "Python 3"
    },
    "language_info": {
      "name": "python"
    }
  },
  "cells": [
    {
      "cell_type": "markdown",
      "source": [
        "# **Configuração Inicial**"
      ],
      "metadata": {
        "id": "4Fge7-_dk-SS"
      }
    },
    {
      "cell_type": "code",
      "source": [
        "!pip install openpyxl"
      ],
      "metadata": {
        "colab": {
          "base_uri": "https://localhost:8080/",
          "height": 0
        },
        "id": "J0ks5l2QieOp",
        "outputId": "fc48f77a-b95b-438c-9e81-ae6bf2e8a999"
      },
      "execution_count": 1,
      "outputs": [
        {
          "output_type": "stream",
          "name": "stdout",
          "text": [
            "Requirement already satisfied: openpyxl in /usr/local/lib/python3.12/dist-packages (3.1.5)\n",
            "Requirement already satisfied: et-xmlfile in /usr/local/lib/python3.12/dist-packages (from openpyxl) (2.0.0)\n"
          ]
        }
      ]
    },
    {
      "cell_type": "code",
      "execution_count": 2,
      "metadata": {
        "id": "nnp14CMrhlWQ"
      },
      "outputs": [],
      "source": [
        "import pandas as pd"
      ]
    },
    {
      "cell_type": "code",
      "source": [
        "df_original = pd.read_excel(\"Horas_parametros.xlsx\")"
      ],
      "metadata": {
        "id": "8mZPqN5OiBsx"
      },
      "execution_count": 6,
      "outputs": []
    },
    {
      "cell_type": "code",
      "source": [
        "df_original['HET'] = pd.to_numeric(df_original['HET'], errors='coerce')"
      ],
      "metadata": {
        "id": "Z58dJlh_ouZ5"
      },
      "execution_count": 7,
      "outputs": []
    },
    {
      "cell_type": "markdown",
      "source": [
        "separar conjunto de treino (HET existe)"
      ],
      "metadata": {
        "id": "rB76dMGcozUI"
      }
    },
    {
      "cell_type": "code",
      "source": [
        "df_train_full = df_original[df_original['HET'].notna()].copy()"
      ],
      "metadata": {
        "id": "jARQH5d5owOD"
      },
      "execution_count": 8,
      "outputs": []
    },
    {
      "cell_type": "markdown",
      "source": [
        "separar conjnto de previsão (HET ausente)"
      ],
      "metadata": {
        "id": "YXpA066co6_K"
      }
    },
    {
      "cell_type": "code",
      "source": [
        "df_predict = df_original[df_original['HET'].isna()].copy()"
      ],
      "metadata": {
        "id": "JJ8hKzdao6J4"
      },
      "execution_count": 9,
      "outputs": []
    },
    {
      "cell_type": "code",
      "source": [
        "print(f\"Número de amostras para TREINAMENTO (com HET): {len(df_train_full)}\")\n",
        "print(f\"Número de amostras para PREVISÃO (sem HET): {len(df_predict)}\")"
      ],
      "metadata": {
        "colab": {
          "base_uri": "https://localhost:8080/",
          "height": 0
        },
        "id": "X7MrhOXHpD15",
        "outputId": "f50aca0a-161f-4240-c9c2-b38e5bdd9cd5"
      },
      "execution_count": 10,
      "outputs": [
        {
          "output_type": "stream",
          "name": "stdout",
          "text": [
            "Número de amostras para TREINAMENTO (com HET): 9999\n",
            "Número de amostras para PREVISÃO (sem HET): 10743\n"
          ]
        }
      ]
    },
    {
      "cell_type": "markdown",
      "source": [
        "pre-processamento - tratar valores ausentes nas caracteristicas\n",
        "\n",
        "\n"
      ],
      "metadata": {
        "id": "su8rRBolpH26"
      }
    },
    {
      "cell_type": "code",
      "source": [
        "df_train_full.fillna(0, inplace=True)\n",
        "df_predict.fillna(0, inplace=True)"
      ],
      "metadata": {
        "id": "QoTZgDJ-pPCw"
      },
      "execution_count": 11,
      "outputs": []
    },
    {
      "cell_type": "markdown",
      "source": [
        "definir dados de treinamento (x e y a partir de df_train_full)"
      ],
      "metadata": {
        "id": "OdwHRk6lphI6"
      }
    },
    {
      "cell_type": "code",
      "source": [
        "X = df_train_full.drop(columns=['ID', 'HET'])\n",
        "y = df_train_full['HET']"
      ],
      "metadata": {
        "id": "TnVw54MdpfBy"
      },
      "execution_count": 12,
      "outputs": []
    },
    {
      "cell_type": "markdown",
      "source": [
        "Dividir o conjunto de treinamento para validação"
      ],
      "metadata": {
        "id": "EuScyVOLptLZ"
      }
    },
    {
      "cell_type": "code",
      "source": [
        "from sklearn.model_selection import train_test_split"
      ],
      "metadata": {
        "id": "Iyk4Q1Oupo2R"
      },
      "execution_count": 13,
      "outputs": []
    },
    {
      "cell_type": "code",
      "source": [
        "X_train, X_test, y_train, y_test = train_test_split(X, y, test_size=0.2, random_state=42)"
      ],
      "metadata": {
        "id": "8TKXHM0hpx0S"
      },
      "execution_count": 14,
      "outputs": []
    },
    {
      "cell_type": "markdown",
      "source": [
        "Definir dados finais para previsão"
      ],
      "metadata": {
        "id": "fScxRypqp7ZA"
      }
    },
    {
      "cell_type": "code",
      "source": [
        "X_final_prediction = df_predict.drop(columns=['ID', 'HET'])"
      ],
      "metadata": {
        "id": "sX6xrDdap9kR"
      },
      "execution_count": 15,
      "outputs": []
    },
    {
      "cell_type": "code",
      "source": [
        "print(\"\\n--- Separação e Preparação Concluídas ---\")\n",
        "print(f\"Tamanho de X_train (para treinar modelos): {X_train.shape}\")\n",
        "print(f\"Tamanho de X_test (para validar modelos): {X_test.shape}\")\n",
        "print(f\"Tamanho de X_final_prediction (para a previsão final): {X_final_prediction.shape}\")"
      ],
      "metadata": {
        "colab": {
          "base_uri": "https://localhost:8080/",
          "height": 0
        },
        "id": "FevEa1D1p-eg",
        "outputId": "eb1a6229-d8fd-4963-f8ef-81d02efad454"
      },
      "execution_count": 16,
      "outputs": [
        {
          "output_type": "stream",
          "name": "stdout",
          "text": [
            "\n",
            "--- Separação e Preparação Concluídas ---\n",
            "Tamanho de X_train (para treinar modelos): (7999, 295)\n",
            "Tamanho de X_test (para validar modelos): (2000, 295)\n",
            "Tamanho de X_final_prediction (para a previsão final): (10743, 295)\n"
          ]
        }
      ]
    },
    {
      "cell_type": "code",
      "source": [
        "X_final_prediction = X_final_prediction[X_train.columns]"
      ],
      "metadata": {
        "id": "YMaKfa9yp_ww"
      },
      "execution_count": 17,
      "outputs": []
    },
    {
      "cell_type": "markdown",
      "source": [
        "# **EDA com correlação ponto-bisserial**"
      ],
      "metadata": {
        "id": "928w6WzekS8x"
      }
    },
    {
      "cell_type": "code",
      "source": [
        "from scipy.stats import pointbiserialr\n",
        "import numpy as np"
      ],
      "metadata": {
        "id": "ieUWPeBJkL0B"
      },
      "execution_count": 18,
      "outputs": []
    },
    {
      "cell_type": "code",
      "source": [
        "predictor_cols = [col for col in df_train_full.columns if col not in ['ID', 'HET']]"
      ],
      "metadata": {
        "id": "U1xpPleBkcGA"
      },
      "execution_count": 19,
      "outputs": []
    },
    {
      "cell_type": "code",
      "source": [
        "correlations = {}"
      ],
      "metadata": {
        "id": "m9niRom1kebg"
      },
      "execution_count": 20,
      "outputs": []
    },
    {
      "cell_type": "code",
      "source": [
        "print(\"Calculando correlações... \")\n",
        "\n",
        "for col in predictor_cols:\n",
        "    unique_values = df_train_full[col].unique()\n",
        "    if np.isin(unique_values, [0, 1]).all():\n",
        "        try:\n",
        "            corr, p_value = pointbiserialr(df_train_full[col], df_train_full['HET'])\n",
        "            correlations[col] = {'correlation': corr, 'p_value': p_value}\n",
        "        except Exception as e:\n",
        "            print(f\"Não foi possível calcular a correlação para a coluna '{col}': {e}\")"
      ],
      "metadata": {
        "colab": {
          "base_uri": "https://localhost:8080/",
          "height": 0
        },
        "id": "I2shErLSkhFx",
        "outputId": "a1a8a7cf-bb75-4253-e7c9-8a62f8f14bc1"
      },
      "execution_count": 21,
      "outputs": [
        {
          "output_type": "stream",
          "name": "stdout",
          "text": [
            "Calculando correlações... \n"
          ]
        },
        {
          "output_type": "stream",
          "name": "stderr",
          "text": [
            "/usr/local/lib/python3.12/dist-packages/scipy/stats/_stats_py.py:5534: ConstantInputWarning: An input array is constant; the correlation coefficient is not defined.\n",
            "  rpb, prob = pearsonr(x, y)\n"
          ]
        }
      ]
    },
    {
      "cell_type": "code",
      "source": [
        "corr_df = pd.DataFrame.from_dict(correlations, orient='index')"
      ],
      "metadata": {
        "id": "WMJ7cCEIksVI"
      },
      "execution_count": 22,
      "outputs": []
    },
    {
      "cell_type": "code",
      "source": [
        "corr_df['abs_correlation'] = corr_df['correlation'].abs()"
      ],
      "metadata": {
        "id": "IsMUcKd7ktNJ"
      },
      "execution_count": 23,
      "outputs": []
    },
    {
      "cell_type": "code",
      "source": [
        "corr_df_sorted = corr_df.sort_values(by='abs_correlation', ascending=False)"
      ],
      "metadata": {
        "id": "4eo8tyoDkuax"
      },
      "execution_count": 24,
      "outputs": []
    },
    {
      "cell_type": "code",
      "source": [
        "print(\"\\n--- Top 20 Características Mais Correlacionadas com HET ---\")\n",
        "print(corr_df_sorted[['correlation', 'p_value']].head(20))"
      ],
      "metadata": {
        "colab": {
          "base_uri": "https://localhost:8080/",
          "height": 0
        },
        "id": "lax9oSgukwnZ",
        "outputId": "2eb8a13f-721c-4661-d16e-885e97aca143"
      },
      "execution_count": 25,
      "outputs": [
        {
          "output_type": "stream",
          "name": "stdout",
          "text": [
            "\n",
            "--- Top 20 Características Mais Correlacionadas com HET ---\n",
            "             correlation        p_value\n",
            "01.02           0.662605   0.000000e+00\n",
            "03.01          -0.546044   0.000000e+00\n",
            "01.07.01       -0.482773   0.000000e+00\n",
            "02.08           0.460962   0.000000e+00\n",
            "05.01          -0.454533   0.000000e+00\n",
            "12.04           0.432227   0.000000e+00\n",
            "12.02           0.431221   0.000000e+00\n",
            "05.04           0.409293   0.000000e+00\n",
            "07.14           0.398710   0.000000e+00\n",
            "05.02           0.355914  2.085657e-296\n",
            "02.14           0.346707  2.245391e-280\n",
            "10.09           0.338571  1.187015e-266\n",
            "02.13          -0.338137  6.237890e-266\n",
            "08.16           0.334547  5.138237e-260\n",
            "02.10           0.333047  1.442643e-257\n",
            "04.10           0.327627  7.785466e-249\n",
            "06.03           0.301304  6.611612e-209\n",
            "07.15           0.299146  8.210047e-206\n",
            "06.04           0.295212  3.073716e-200\n",
            "02.15           0.278822  5.907509e-178\n"
          ]
        }
      ]
    },
    {
      "cell_type": "markdown",
      "source": [
        "# **Modelagem com Regressão Lasso e Otimização**"
      ],
      "metadata": {
        "id": "sBhpKDwxllnR"
      }
    },
    {
      "cell_type": "code",
      "source": [
        "from sklearn.linear_model import Lasso\n",
        "from sklearn.model_selection import GridSearchCV, KFold\n",
        "import warnings"
      ],
      "metadata": {
        "id": "pHutNGm3lsKR"
      },
      "execution_count": 26,
      "outputs": []
    },
    {
      "cell_type": "code",
      "source": [
        "warnings.filterwarnings('ignore', category=UserWarning)"
      ],
      "metadata": {
        "id": "PCmze9SAl0s2"
      },
      "execution_count": 27,
      "outputs": []
    },
    {
      "cell_type": "code",
      "source": [
        "lasso = Lasso(max_iter=10000, random_state=42)\n",
        "param_grid_lasso = {'alpha': [0.01, 0.1, 0.5, 1, 5, 10]}\n",
        "kfold = KFold(n_splits=5, shuffle=True, random_state=42)"
      ],
      "metadata": {
        "id": "UyzP5KYfl3-K"
      },
      "execution_count": 28,
      "outputs": []
    },
    {
      "cell_type": "code",
      "source": [
        "print(\"Iniciando a otimização do modelo Lasso com validação cruzada...\")\n",
        "print(f\"Testando os seguintes valores para alpha: {param_grid_lasso['alpha']}\")\n",
        "\n",
        "grid_search_lasso = GridSearchCV(\n",
        "    estimator=lasso,\n",
        "    param_grid=param_grid_lasso,\n",
        "    cv=kfold,\n",
        "    scoring='neg_root_mean_squared_error',\n",
        "    n_jobs=-1\n",
        ")"
      ],
      "metadata": {
        "colab": {
          "base_uri": "https://localhost:8080/",
          "height": 0
        },
        "id": "TC5JbVyyl-pA",
        "outputId": "195b5ce9-fbff-4254-8abe-8697c37c53f8"
      },
      "execution_count": 29,
      "outputs": [
        {
          "output_type": "stream",
          "name": "stdout",
          "text": [
            "Iniciando a otimização do modelo Lasso com validação cruzada...\n",
            "Testando os seguintes valores para alpha: [0.01, 0.1, 0.5, 1, 5, 10]\n"
          ]
        }
      ]
    },
    {
      "cell_type": "code",
      "source": [
        "grid_search_lasso.fit(X_train, y_train)"
      ],
      "metadata": {
        "colab": {
          "base_uri": "https://localhost:8080/",
          "height": 166
        },
        "id": "A1UBzEHLmC_g",
        "outputId": "17652dfe-3432-4cb1-8169-88d508c6c1e9"
      },
      "execution_count": 30,
      "outputs": [
        {
          "output_type": "execute_result",
          "data": {
            "text/plain": [
              "GridSearchCV(cv=KFold(n_splits=5, random_state=42, shuffle=True),\n",
              "             estimator=Lasso(max_iter=10000, random_state=42), n_jobs=-1,\n",
              "             param_grid={'alpha': [0.01, 0.1, 0.5, 1, 5, 10]},\n",
              "             scoring='neg_root_mean_squared_error')"
            ],
            "text/html": [
              "<style>#sk-container-id-1 {\n",
              "  /* Definition of color scheme common for light and dark mode */\n",
              "  --sklearn-color-text: #000;\n",
              "  --sklearn-color-text-muted: #666;\n",
              "  --sklearn-color-line: gray;\n",
              "  /* Definition of color scheme for unfitted estimators */\n",
              "  --sklearn-color-unfitted-level-0: #fff5e6;\n",
              "  --sklearn-color-unfitted-level-1: #f6e4d2;\n",
              "  --sklearn-color-unfitted-level-2: #ffe0b3;\n",
              "  --sklearn-color-unfitted-level-3: chocolate;\n",
              "  /* Definition of color scheme for fitted estimators */\n",
              "  --sklearn-color-fitted-level-0: #f0f8ff;\n",
              "  --sklearn-color-fitted-level-1: #d4ebff;\n",
              "  --sklearn-color-fitted-level-2: #b3dbfd;\n",
              "  --sklearn-color-fitted-level-3: cornflowerblue;\n",
              "\n",
              "  /* Specific color for light theme */\n",
              "  --sklearn-color-text-on-default-background: var(--sg-text-color, var(--theme-code-foreground, var(--jp-content-font-color1, black)));\n",
              "  --sklearn-color-background: var(--sg-background-color, var(--theme-background, var(--jp-layout-color0, white)));\n",
              "  --sklearn-color-border-box: var(--sg-text-color, var(--theme-code-foreground, var(--jp-content-font-color1, black)));\n",
              "  --sklearn-color-icon: #696969;\n",
              "\n",
              "  @media (prefers-color-scheme: dark) {\n",
              "    /* Redefinition of color scheme for dark theme */\n",
              "    --sklearn-color-text-on-default-background: var(--sg-text-color, var(--theme-code-foreground, var(--jp-content-font-color1, white)));\n",
              "    --sklearn-color-background: var(--sg-background-color, var(--theme-background, var(--jp-layout-color0, #111)));\n",
              "    --sklearn-color-border-box: var(--sg-text-color, var(--theme-code-foreground, var(--jp-content-font-color1, white)));\n",
              "    --sklearn-color-icon: #878787;\n",
              "  }\n",
              "}\n",
              "\n",
              "#sk-container-id-1 {\n",
              "  color: var(--sklearn-color-text);\n",
              "}\n",
              "\n",
              "#sk-container-id-1 pre {\n",
              "  padding: 0;\n",
              "}\n",
              "\n",
              "#sk-container-id-1 input.sk-hidden--visually {\n",
              "  border: 0;\n",
              "  clip: rect(1px 1px 1px 1px);\n",
              "  clip: rect(1px, 1px, 1px, 1px);\n",
              "  height: 1px;\n",
              "  margin: -1px;\n",
              "  overflow: hidden;\n",
              "  padding: 0;\n",
              "  position: absolute;\n",
              "  width: 1px;\n",
              "}\n",
              "\n",
              "#sk-container-id-1 div.sk-dashed-wrapped {\n",
              "  border: 1px dashed var(--sklearn-color-line);\n",
              "  margin: 0 0.4em 0.5em 0.4em;\n",
              "  box-sizing: border-box;\n",
              "  padding-bottom: 0.4em;\n",
              "  background-color: var(--sklearn-color-background);\n",
              "}\n",
              "\n",
              "#sk-container-id-1 div.sk-container {\n",
              "  /* jupyter's `normalize.less` sets `[hidden] { display: none; }`\n",
              "     but bootstrap.min.css set `[hidden] { display: none !important; }`\n",
              "     so we also need the `!important` here to be able to override the\n",
              "     default hidden behavior on the sphinx rendered scikit-learn.org.\n",
              "     See: https://github.com/scikit-learn/scikit-learn/issues/21755 */\n",
              "  display: inline-block !important;\n",
              "  position: relative;\n",
              "}\n",
              "\n",
              "#sk-container-id-1 div.sk-text-repr-fallback {\n",
              "  display: none;\n",
              "}\n",
              "\n",
              "div.sk-parallel-item,\n",
              "div.sk-serial,\n",
              "div.sk-item {\n",
              "  /* draw centered vertical line to link estimators */\n",
              "  background-image: linear-gradient(var(--sklearn-color-text-on-default-background), var(--sklearn-color-text-on-default-background));\n",
              "  background-size: 2px 100%;\n",
              "  background-repeat: no-repeat;\n",
              "  background-position: center center;\n",
              "}\n",
              "\n",
              "/* Parallel-specific style estimator block */\n",
              "\n",
              "#sk-container-id-1 div.sk-parallel-item::after {\n",
              "  content: \"\";\n",
              "  width: 100%;\n",
              "  border-bottom: 2px solid var(--sklearn-color-text-on-default-background);\n",
              "  flex-grow: 1;\n",
              "}\n",
              "\n",
              "#sk-container-id-1 div.sk-parallel {\n",
              "  display: flex;\n",
              "  align-items: stretch;\n",
              "  justify-content: center;\n",
              "  background-color: var(--sklearn-color-background);\n",
              "  position: relative;\n",
              "}\n",
              "\n",
              "#sk-container-id-1 div.sk-parallel-item {\n",
              "  display: flex;\n",
              "  flex-direction: column;\n",
              "}\n",
              "\n",
              "#sk-container-id-1 div.sk-parallel-item:first-child::after {\n",
              "  align-self: flex-end;\n",
              "  width: 50%;\n",
              "}\n",
              "\n",
              "#sk-container-id-1 div.sk-parallel-item:last-child::after {\n",
              "  align-self: flex-start;\n",
              "  width: 50%;\n",
              "}\n",
              "\n",
              "#sk-container-id-1 div.sk-parallel-item:only-child::after {\n",
              "  width: 0;\n",
              "}\n",
              "\n",
              "/* Serial-specific style estimator block */\n",
              "\n",
              "#sk-container-id-1 div.sk-serial {\n",
              "  display: flex;\n",
              "  flex-direction: column;\n",
              "  align-items: center;\n",
              "  background-color: var(--sklearn-color-background);\n",
              "  padding-right: 1em;\n",
              "  padding-left: 1em;\n",
              "}\n",
              "\n",
              "\n",
              "/* Toggleable style: style used for estimator/Pipeline/ColumnTransformer box that is\n",
              "clickable and can be expanded/collapsed.\n",
              "- Pipeline and ColumnTransformer use this feature and define the default style\n",
              "- Estimators will overwrite some part of the style using the `sk-estimator` class\n",
              "*/\n",
              "\n",
              "/* Pipeline and ColumnTransformer style (default) */\n",
              "\n",
              "#sk-container-id-1 div.sk-toggleable {\n",
              "  /* Default theme specific background. It is overwritten whether we have a\n",
              "  specific estimator or a Pipeline/ColumnTransformer */\n",
              "  background-color: var(--sklearn-color-background);\n",
              "}\n",
              "\n",
              "/* Toggleable label */\n",
              "#sk-container-id-1 label.sk-toggleable__label {\n",
              "  cursor: pointer;\n",
              "  display: flex;\n",
              "  width: 100%;\n",
              "  margin-bottom: 0;\n",
              "  padding: 0.5em;\n",
              "  box-sizing: border-box;\n",
              "  text-align: center;\n",
              "  align-items: start;\n",
              "  justify-content: space-between;\n",
              "  gap: 0.5em;\n",
              "}\n",
              "\n",
              "#sk-container-id-1 label.sk-toggleable__label .caption {\n",
              "  font-size: 0.6rem;\n",
              "  font-weight: lighter;\n",
              "  color: var(--sklearn-color-text-muted);\n",
              "}\n",
              "\n",
              "#sk-container-id-1 label.sk-toggleable__label-arrow:before {\n",
              "  /* Arrow on the left of the label */\n",
              "  content: \"▸\";\n",
              "  float: left;\n",
              "  margin-right: 0.25em;\n",
              "  color: var(--sklearn-color-icon);\n",
              "}\n",
              "\n",
              "#sk-container-id-1 label.sk-toggleable__label-arrow:hover:before {\n",
              "  color: var(--sklearn-color-text);\n",
              "}\n",
              "\n",
              "/* Toggleable content - dropdown */\n",
              "\n",
              "#sk-container-id-1 div.sk-toggleable__content {\n",
              "  max-height: 0;\n",
              "  max-width: 0;\n",
              "  overflow: hidden;\n",
              "  text-align: left;\n",
              "  /* unfitted */\n",
              "  background-color: var(--sklearn-color-unfitted-level-0);\n",
              "}\n",
              "\n",
              "#sk-container-id-1 div.sk-toggleable__content.fitted {\n",
              "  /* fitted */\n",
              "  background-color: var(--sklearn-color-fitted-level-0);\n",
              "}\n",
              "\n",
              "#sk-container-id-1 div.sk-toggleable__content pre {\n",
              "  margin: 0.2em;\n",
              "  border-radius: 0.25em;\n",
              "  color: var(--sklearn-color-text);\n",
              "  /* unfitted */\n",
              "  background-color: var(--sklearn-color-unfitted-level-0);\n",
              "}\n",
              "\n",
              "#sk-container-id-1 div.sk-toggleable__content.fitted pre {\n",
              "  /* unfitted */\n",
              "  background-color: var(--sklearn-color-fitted-level-0);\n",
              "}\n",
              "\n",
              "#sk-container-id-1 input.sk-toggleable__control:checked~div.sk-toggleable__content {\n",
              "  /* Expand drop-down */\n",
              "  max-height: 200px;\n",
              "  max-width: 100%;\n",
              "  overflow: auto;\n",
              "}\n",
              "\n",
              "#sk-container-id-1 input.sk-toggleable__control:checked~label.sk-toggleable__label-arrow:before {\n",
              "  content: \"▾\";\n",
              "}\n",
              "\n",
              "/* Pipeline/ColumnTransformer-specific style */\n",
              "\n",
              "#sk-container-id-1 div.sk-label input.sk-toggleable__control:checked~label.sk-toggleable__label {\n",
              "  color: var(--sklearn-color-text);\n",
              "  background-color: var(--sklearn-color-unfitted-level-2);\n",
              "}\n",
              "\n",
              "#sk-container-id-1 div.sk-label.fitted input.sk-toggleable__control:checked~label.sk-toggleable__label {\n",
              "  background-color: var(--sklearn-color-fitted-level-2);\n",
              "}\n",
              "\n",
              "/* Estimator-specific style */\n",
              "\n",
              "/* Colorize estimator box */\n",
              "#sk-container-id-1 div.sk-estimator input.sk-toggleable__control:checked~label.sk-toggleable__label {\n",
              "  /* unfitted */\n",
              "  background-color: var(--sklearn-color-unfitted-level-2);\n",
              "}\n",
              "\n",
              "#sk-container-id-1 div.sk-estimator.fitted input.sk-toggleable__control:checked~label.sk-toggleable__label {\n",
              "  /* fitted */\n",
              "  background-color: var(--sklearn-color-fitted-level-2);\n",
              "}\n",
              "\n",
              "#sk-container-id-1 div.sk-label label.sk-toggleable__label,\n",
              "#sk-container-id-1 div.sk-label label {\n",
              "  /* The background is the default theme color */\n",
              "  color: var(--sklearn-color-text-on-default-background);\n",
              "}\n",
              "\n",
              "/* On hover, darken the color of the background */\n",
              "#sk-container-id-1 div.sk-label:hover label.sk-toggleable__label {\n",
              "  color: var(--sklearn-color-text);\n",
              "  background-color: var(--sklearn-color-unfitted-level-2);\n",
              "}\n",
              "\n",
              "/* Label box, darken color on hover, fitted */\n",
              "#sk-container-id-1 div.sk-label.fitted:hover label.sk-toggleable__label.fitted {\n",
              "  color: var(--sklearn-color-text);\n",
              "  background-color: var(--sklearn-color-fitted-level-2);\n",
              "}\n",
              "\n",
              "/* Estimator label */\n",
              "\n",
              "#sk-container-id-1 div.sk-label label {\n",
              "  font-family: monospace;\n",
              "  font-weight: bold;\n",
              "  display: inline-block;\n",
              "  line-height: 1.2em;\n",
              "}\n",
              "\n",
              "#sk-container-id-1 div.sk-label-container {\n",
              "  text-align: center;\n",
              "}\n",
              "\n",
              "/* Estimator-specific */\n",
              "#sk-container-id-1 div.sk-estimator {\n",
              "  font-family: monospace;\n",
              "  border: 1px dotted var(--sklearn-color-border-box);\n",
              "  border-radius: 0.25em;\n",
              "  box-sizing: border-box;\n",
              "  margin-bottom: 0.5em;\n",
              "  /* unfitted */\n",
              "  background-color: var(--sklearn-color-unfitted-level-0);\n",
              "}\n",
              "\n",
              "#sk-container-id-1 div.sk-estimator.fitted {\n",
              "  /* fitted */\n",
              "  background-color: var(--sklearn-color-fitted-level-0);\n",
              "}\n",
              "\n",
              "/* on hover */\n",
              "#sk-container-id-1 div.sk-estimator:hover {\n",
              "  /* unfitted */\n",
              "  background-color: var(--sklearn-color-unfitted-level-2);\n",
              "}\n",
              "\n",
              "#sk-container-id-1 div.sk-estimator.fitted:hover {\n",
              "  /* fitted */\n",
              "  background-color: var(--sklearn-color-fitted-level-2);\n",
              "}\n",
              "\n",
              "/* Specification for estimator info (e.g. \"i\" and \"?\") */\n",
              "\n",
              "/* Common style for \"i\" and \"?\" */\n",
              "\n",
              ".sk-estimator-doc-link,\n",
              "a:link.sk-estimator-doc-link,\n",
              "a:visited.sk-estimator-doc-link {\n",
              "  float: right;\n",
              "  font-size: smaller;\n",
              "  line-height: 1em;\n",
              "  font-family: monospace;\n",
              "  background-color: var(--sklearn-color-background);\n",
              "  border-radius: 1em;\n",
              "  height: 1em;\n",
              "  width: 1em;\n",
              "  text-decoration: none !important;\n",
              "  margin-left: 0.5em;\n",
              "  text-align: center;\n",
              "  /* unfitted */\n",
              "  border: var(--sklearn-color-unfitted-level-1) 1pt solid;\n",
              "  color: var(--sklearn-color-unfitted-level-1);\n",
              "}\n",
              "\n",
              ".sk-estimator-doc-link.fitted,\n",
              "a:link.sk-estimator-doc-link.fitted,\n",
              "a:visited.sk-estimator-doc-link.fitted {\n",
              "  /* fitted */\n",
              "  border: var(--sklearn-color-fitted-level-1) 1pt solid;\n",
              "  color: var(--sklearn-color-fitted-level-1);\n",
              "}\n",
              "\n",
              "/* On hover */\n",
              "div.sk-estimator:hover .sk-estimator-doc-link:hover,\n",
              ".sk-estimator-doc-link:hover,\n",
              "div.sk-label-container:hover .sk-estimator-doc-link:hover,\n",
              ".sk-estimator-doc-link:hover {\n",
              "  /* unfitted */\n",
              "  background-color: var(--sklearn-color-unfitted-level-3);\n",
              "  color: var(--sklearn-color-background);\n",
              "  text-decoration: none;\n",
              "}\n",
              "\n",
              "div.sk-estimator.fitted:hover .sk-estimator-doc-link.fitted:hover,\n",
              ".sk-estimator-doc-link.fitted:hover,\n",
              "div.sk-label-container:hover .sk-estimator-doc-link.fitted:hover,\n",
              ".sk-estimator-doc-link.fitted:hover {\n",
              "  /* fitted */\n",
              "  background-color: var(--sklearn-color-fitted-level-3);\n",
              "  color: var(--sklearn-color-background);\n",
              "  text-decoration: none;\n",
              "}\n",
              "\n",
              "/* Span, style for the box shown on hovering the info icon */\n",
              ".sk-estimator-doc-link span {\n",
              "  display: none;\n",
              "  z-index: 9999;\n",
              "  position: relative;\n",
              "  font-weight: normal;\n",
              "  right: .2ex;\n",
              "  padding: .5ex;\n",
              "  margin: .5ex;\n",
              "  width: min-content;\n",
              "  min-width: 20ex;\n",
              "  max-width: 50ex;\n",
              "  color: var(--sklearn-color-text);\n",
              "  box-shadow: 2pt 2pt 4pt #999;\n",
              "  /* unfitted */\n",
              "  background: var(--sklearn-color-unfitted-level-0);\n",
              "  border: .5pt solid var(--sklearn-color-unfitted-level-3);\n",
              "}\n",
              "\n",
              ".sk-estimator-doc-link.fitted span {\n",
              "  /* fitted */\n",
              "  background: var(--sklearn-color-fitted-level-0);\n",
              "  border: var(--sklearn-color-fitted-level-3);\n",
              "}\n",
              "\n",
              ".sk-estimator-doc-link:hover span {\n",
              "  display: block;\n",
              "}\n",
              "\n",
              "/* \"?\"-specific style due to the `<a>` HTML tag */\n",
              "\n",
              "#sk-container-id-1 a.estimator_doc_link {\n",
              "  float: right;\n",
              "  font-size: 1rem;\n",
              "  line-height: 1em;\n",
              "  font-family: monospace;\n",
              "  background-color: var(--sklearn-color-background);\n",
              "  border-radius: 1rem;\n",
              "  height: 1rem;\n",
              "  width: 1rem;\n",
              "  text-decoration: none;\n",
              "  /* unfitted */\n",
              "  color: var(--sklearn-color-unfitted-level-1);\n",
              "  border: var(--sklearn-color-unfitted-level-1) 1pt solid;\n",
              "}\n",
              "\n",
              "#sk-container-id-1 a.estimator_doc_link.fitted {\n",
              "  /* fitted */\n",
              "  border: var(--sklearn-color-fitted-level-1) 1pt solid;\n",
              "  color: var(--sklearn-color-fitted-level-1);\n",
              "}\n",
              "\n",
              "/* On hover */\n",
              "#sk-container-id-1 a.estimator_doc_link:hover {\n",
              "  /* unfitted */\n",
              "  background-color: var(--sklearn-color-unfitted-level-3);\n",
              "  color: var(--sklearn-color-background);\n",
              "  text-decoration: none;\n",
              "}\n",
              "\n",
              "#sk-container-id-1 a.estimator_doc_link.fitted:hover {\n",
              "  /* fitted */\n",
              "  background-color: var(--sklearn-color-fitted-level-3);\n",
              "}\n",
              "</style><div id=\"sk-container-id-1\" class=\"sk-top-container\"><div class=\"sk-text-repr-fallback\"><pre>GridSearchCV(cv=KFold(n_splits=5, random_state=42, shuffle=True),\n",
              "             estimator=Lasso(max_iter=10000, random_state=42), n_jobs=-1,\n",
              "             param_grid={&#x27;alpha&#x27;: [0.01, 0.1, 0.5, 1, 5, 10]},\n",
              "             scoring=&#x27;neg_root_mean_squared_error&#x27;)</pre><b>In a Jupyter environment, please rerun this cell to show the HTML representation or trust the notebook. <br />On GitHub, the HTML representation is unable to render, please try loading this page with nbviewer.org.</b></div><div class=\"sk-container\" hidden><div class=\"sk-item sk-dashed-wrapped\"><div class=\"sk-label-container\"><div class=\"sk-label fitted sk-toggleable\"><input class=\"sk-toggleable__control sk-hidden--visually\" id=\"sk-estimator-id-1\" type=\"checkbox\" ><label for=\"sk-estimator-id-1\" class=\"sk-toggleable__label fitted sk-toggleable__label-arrow\"><div><div>GridSearchCV</div></div><div><a class=\"sk-estimator-doc-link fitted\" rel=\"noreferrer\" target=\"_blank\" href=\"https://scikit-learn.org/1.6/modules/generated/sklearn.model_selection.GridSearchCV.html\">?<span>Documentation for GridSearchCV</span></a><span class=\"sk-estimator-doc-link fitted\">i<span>Fitted</span></span></div></label><div class=\"sk-toggleable__content fitted\"><pre>GridSearchCV(cv=KFold(n_splits=5, random_state=42, shuffle=True),\n",
              "             estimator=Lasso(max_iter=10000, random_state=42), n_jobs=-1,\n",
              "             param_grid={&#x27;alpha&#x27;: [0.01, 0.1, 0.5, 1, 5, 10]},\n",
              "             scoring=&#x27;neg_root_mean_squared_error&#x27;)</pre></div> </div></div><div class=\"sk-parallel\"><div class=\"sk-parallel-item\"><div class=\"sk-item\"><div class=\"sk-label-container\"><div class=\"sk-label fitted sk-toggleable\"><input class=\"sk-toggleable__control sk-hidden--visually\" id=\"sk-estimator-id-2\" type=\"checkbox\" ><label for=\"sk-estimator-id-2\" class=\"sk-toggleable__label fitted sk-toggleable__label-arrow\"><div><div>best_estimator_: Lasso</div></div></label><div class=\"sk-toggleable__content fitted\"><pre>Lasso(alpha=0.01, max_iter=10000, random_state=42)</pre></div> </div></div><div class=\"sk-serial\"><div class=\"sk-item\"><div class=\"sk-estimator fitted sk-toggleable\"><input class=\"sk-toggleable__control sk-hidden--visually\" id=\"sk-estimator-id-3\" type=\"checkbox\" ><label for=\"sk-estimator-id-3\" class=\"sk-toggleable__label fitted sk-toggleable__label-arrow\"><div><div>Lasso</div></div><div><a class=\"sk-estimator-doc-link fitted\" rel=\"noreferrer\" target=\"_blank\" href=\"https://scikit-learn.org/1.6/modules/generated/sklearn.linear_model.Lasso.html\">?<span>Documentation for Lasso</span></a></div></label><div class=\"sk-toggleable__content fitted\"><pre>Lasso(alpha=0.01, max_iter=10000, random_state=42)</pre></div> </div></div></div></div></div></div></div></div></div>"
            ]
          },
          "metadata": {},
          "execution_count": 30
        }
      ]
    },
    {
      "cell_type": "code",
      "source": [
        "best_lasso = grid_search_lasso.best_estimator_"
      ],
      "metadata": {
        "id": "e5_y03xVmEmQ"
      },
      "execution_count": 31,
      "outputs": []
    },
    {
      "cell_type": "code",
      "source": [
        "print(\"\\n--- Otimização do Lasso Concluída ---\")\n",
        "print(f\"O melhor valor de alpha encontrado foi: {grid_search_lasso.best_params_['alpha']}\")\n",
        "print(f\"RMSE médio na validação cruzada com o melhor alpha: {-grid_search_lasso.best_score_:.4f}\")"
      ],
      "metadata": {
        "colab": {
          "base_uri": "https://localhost:8080/",
          "height": 0
        },
        "id": "MUPVGGrAmFoS",
        "outputId": "012b7fef-531e-4173-c678-4f8b29da41f7"
      },
      "execution_count": 32,
      "outputs": [
        {
          "output_type": "stream",
          "name": "stdout",
          "text": [
            "\n",
            "--- Otimização do Lasso Concluída ---\n",
            "O melhor valor de alpha encontrado foi: 0.01\n",
            "RMSE médio na validação cruzada com o melhor alpha: 8.8524\n"
          ]
        }
      ]
    },
    {
      "cell_type": "markdown",
      "source": [
        "**Avaliação do modelo Lasso**"
      ],
      "metadata": {
        "id": "S6AwifTmmZwC"
      }
    },
    {
      "cell_type": "code",
      "source": [
        "from sklearn.metrics import r2_score, mean_absolute_error, root_mean_squared_error"
      ],
      "metadata": {
        "id": "C5uFbauOmVLR"
      },
      "execution_count": 33,
      "outputs": []
    },
    {
      "cell_type": "code",
      "source": [
        "print(\"\\nAvaliando o modelo Lasso no conjunto de teste/validação...\")\n",
        "predictions_lasso = best_lasso.predict(X_test)\n",
        "r2_lasso = r2_score(y_test, predictions_lasso)\n",
        "mae_lasso = mean_absolute_error(y_test, predictions_lasso)\n",
        "rmse_lasso = root_mean_squared_error(y_test, predictions_lasso)"
      ],
      "metadata": {
        "colab": {
          "base_uri": "https://localhost:8080/",
          "height": 0
        },
        "id": "urS4hvTZmZHg",
        "outputId": "dd6e9d5f-eb5f-4350-eefa-ef04bb026c19"
      },
      "execution_count": 34,
      "outputs": [
        {
          "output_type": "stream",
          "name": "stdout",
          "text": [
            "\n",
            "Avaliando o modelo Lasso no conjunto de teste/validação...\n"
          ]
        }
      ]
    },
    {
      "cell_type": "code",
      "source": [
        "print(\"\\n--- Resultados do Modelo Lasso ---\")\n",
        "print(f\"R-quadrado (R²): {r2_lasso:.4f}\")\n",
        "print(f\"Erro Médio Absoluto (MAE): {mae_lasso:.4f}\")\n",
        "print(f\"Raiz do Erro Quadrático Médio (RMSE): {rmse_lasso:.4f}\")"
      ],
      "metadata": {
        "colab": {
          "base_uri": "https://localhost:8080/",
          "height": 0
        },
        "id": "U2eNa9ehmjZY",
        "outputId": "0091c19b-0771-481f-9a6b-a4279851ada0"
      },
      "execution_count": 35,
      "outputs": [
        {
          "output_type": "stream",
          "name": "stdout",
          "text": [
            "\n",
            "--- Resultados do Modelo Lasso ---\n",
            "R-quadrado (R²): 0.7420\n",
            "Erro Médio Absoluto (MAE): 5.3086\n",
            "Raiz do Erro Quadrático Médio (RMSE): 7.9548\n"
          ]
        }
      ]
    },
    {
      "cell_type": "code",
      "source": [
        "n_selected_features = np.sum(best_lasso.coef_ != 0)\n",
        "print(f\"O modelo selecionou {n_selected_features} de {X_train.shape[1]} características.\")"
      ],
      "metadata": {
        "colab": {
          "base_uri": "https://localhost:8080/",
          "height": 0
        },
        "id": "VPdxOwEmmkTw",
        "outputId": "46bfb57a-a24c-4505-d47b-371dee26e6f7"
      },
      "execution_count": 36,
      "outputs": [
        {
          "output_type": "stream",
          "name": "stdout",
          "text": [
            "O modelo selecionou 108 de 295 características.\n"
          ]
        }
      ]
    },
    {
      "cell_type": "markdown",
      "source": [
        "# **Modelagem com XGBoost e otimização**"
      ],
      "metadata": {
        "id": "ZbX5vQDdm7Ao"
      }
    },
    {
      "cell_type": "code",
      "source": [
        "!pip install xgboost"
      ],
      "metadata": {
        "colab": {
          "base_uri": "https://localhost:8080/",
          "height": 0
        },
        "id": "bkcu-LqQnYmI",
        "outputId": "1a26504b-c4fe-4e1b-9bee-3bc050227b6b"
      },
      "execution_count": 37,
      "outputs": [
        {
          "output_type": "stream",
          "name": "stdout",
          "text": [
            "Requirement already satisfied: xgboost in /usr/local/lib/python3.12/dist-packages (3.0.5)\n",
            "Requirement already satisfied: numpy in /usr/local/lib/python3.12/dist-packages (from xgboost) (2.0.2)\n",
            "Requirement already satisfied: nvidia-nccl-cu12 in /usr/local/lib/python3.12/dist-packages (from xgboost) (2.27.3)\n",
            "Requirement already satisfied: scipy in /usr/local/lib/python3.12/dist-packages (from xgboost) (1.16.2)\n"
          ]
        }
      ]
    },
    {
      "cell_type": "code",
      "source": [
        "import xgboost as xgb\n",
        "from sklearn.model_selection import GridSearchCV, KFold\n",
        "import warnings"
      ],
      "metadata": {
        "id": "1d9mEKr-nIyh"
      },
      "execution_count": 38,
      "outputs": []
    },
    {
      "cell_type": "code",
      "source": [
        "warnings.filterwarnings('ignore', category=UserWarning)"
      ],
      "metadata": {
        "id": "qTkFK_j3r4PJ"
      },
      "execution_count": 39,
      "outputs": []
    },
    {
      "cell_type": "markdown",
      "source": [
        "definindo o modelo XGBoost"
      ],
      "metadata": {
        "id": "tE145bYtr-x6"
      }
    },
    {
      "cell_type": "code",
      "source": [
        "xgboost = xgb.XGBRegressor(\n",
        "    objective='reg:squarederror',\n",
        "    random_state=42,\n",
        "    n_jobs=-1\n",
        ")"
      ],
      "metadata": {
        "id": "n4g5yH73r9ay"
      },
      "execution_count": 40,
      "outputs": []
    },
    {
      "cell_type": "markdown",
      "source": [
        "definindo grade de paramentros"
      ],
      "metadata": {
        "id": "tTF_jqBssOVC"
      }
    },
    {
      "cell_type": "code",
      "source": [
        "param_grid_xgb = {\n",
        "    'n_estimators': [100, 300],\n",
        "    'learning_rate': [0.05, 0.1],\n",
        "    'max_depth': [3, 5],\n",
        "    'subsample': [0.8, 1.0]\n",
        "}"
      ],
      "metadata": {
        "id": "w3UYbfs3sQ2Q"
      },
      "execution_count": 41,
      "outputs": []
    },
    {
      "cell_type": "markdown",
      "source": [
        "configurar a validação cruzada (K-Fold)"
      ],
      "metadata": {
        "id": "Mwo10Sl-sSQh"
      }
    },
    {
      "cell_type": "code",
      "source": [
        "kfold = KFold(n_splits=5, shuffle=True, random_state=42)"
      ],
      "metadata": {
        "id": "rnVCR_76sWoY"
      },
      "execution_count": 42,
      "outputs": []
    },
    {
      "cell_type": "markdown",
      "source": [
        "configurar e executar o GridSearchCV"
      ],
      "metadata": {
        "id": "06Suh35IsYtw"
      }
    },
    {
      "cell_type": "code",
      "source": [
        "print(\"Iniciando a otimização do modelo XGBoost com validação cruzada...\")\n",
        "print(f\"Total de combinações a testar: {len(param_grid_xgb['n_estimators']) * len(param_grid_xgb['learning_rate']) * len(param_grid_xgb['max_depth']) * len(param_grid_xgb['subsample'])} x 5 folds = 80 modelos.\")\n",
        "\n",
        "grid_search_xgb = GridSearchCV(\n",
        "    estimator=xgboost,\n",
        "    param_grid=param_grid_xgb,\n",
        "    cv=kfold,\n",
        "    scoring='neg_root_mean_squared_error',\n",
        "    n_jobs=-1\n",
        ")\n",
        "\n",
        "grid_search_xgb.fit(X_train, y_train)"
      ],
      "metadata": {
        "colab": {
          "base_uri": "https://localhost:8080/",
          "height": 201
        },
        "id": "QQ6pslmssdqo",
        "outputId": "30e3e149-5aad-4252-ba2e-6970fab818dd"
      },
      "execution_count": 43,
      "outputs": [
        {
          "output_type": "stream",
          "name": "stdout",
          "text": [
            "Iniciando a otimização do modelo XGBoost com validação cruzada...\n",
            "Total de combinações a testar: 16 x 5 folds = 80 modelos.\n"
          ]
        },
        {
          "output_type": "execute_result",
          "data": {
            "text/plain": [
              "GridSearchCV(cv=KFold(n_splits=5, random_state=42, shuffle=True),\n",
              "             estimator=XGBRegressor(base_score=None, booster=None,\n",
              "                                    callbacks=None, colsample_bylevel=None,\n",
              "                                    colsample_bynode=None,\n",
              "                                    colsample_bytree=None, device=None,\n",
              "                                    early_stopping_rounds=None,\n",
              "                                    enable_categorical=False, eval_metric=None,\n",
              "                                    feature_types=None, feature_weights=None,\n",
              "                                    gamma=None, grow_policy=None,\n",
              "                                    impo...\n",
              "                                    max_cat_to_onehot=None, max_delta_step=None,\n",
              "                                    max_depth=None, max_leaves=None,\n",
              "                                    min_child_weight=None, missing=nan,\n",
              "                                    monotone_constraints=None,\n",
              "                                    multi_strategy=None, n_estimators=None,\n",
              "                                    n_jobs=-1, num_parallel_tree=None, ...),\n",
              "             n_jobs=-1,\n",
              "             param_grid={'learning_rate': [0.05, 0.1], 'max_depth': [3, 5],\n",
              "                         'n_estimators': [100, 300], 'subsample': [0.8, 1.0]},\n",
              "             scoring='neg_root_mean_squared_error')"
            ],
            "text/html": [
              "<style>#sk-container-id-2 {\n",
              "  /* Definition of color scheme common for light and dark mode */\n",
              "  --sklearn-color-text: #000;\n",
              "  --sklearn-color-text-muted: #666;\n",
              "  --sklearn-color-line: gray;\n",
              "  /* Definition of color scheme for unfitted estimators */\n",
              "  --sklearn-color-unfitted-level-0: #fff5e6;\n",
              "  --sklearn-color-unfitted-level-1: #f6e4d2;\n",
              "  --sklearn-color-unfitted-level-2: #ffe0b3;\n",
              "  --sklearn-color-unfitted-level-3: chocolate;\n",
              "  /* Definition of color scheme for fitted estimators */\n",
              "  --sklearn-color-fitted-level-0: #f0f8ff;\n",
              "  --sklearn-color-fitted-level-1: #d4ebff;\n",
              "  --sklearn-color-fitted-level-2: #b3dbfd;\n",
              "  --sklearn-color-fitted-level-3: cornflowerblue;\n",
              "\n",
              "  /* Specific color for light theme */\n",
              "  --sklearn-color-text-on-default-background: var(--sg-text-color, var(--theme-code-foreground, var(--jp-content-font-color1, black)));\n",
              "  --sklearn-color-background: var(--sg-background-color, var(--theme-background, var(--jp-layout-color0, white)));\n",
              "  --sklearn-color-border-box: var(--sg-text-color, var(--theme-code-foreground, var(--jp-content-font-color1, black)));\n",
              "  --sklearn-color-icon: #696969;\n",
              "\n",
              "  @media (prefers-color-scheme: dark) {\n",
              "    /* Redefinition of color scheme for dark theme */\n",
              "    --sklearn-color-text-on-default-background: var(--sg-text-color, var(--theme-code-foreground, var(--jp-content-font-color1, white)));\n",
              "    --sklearn-color-background: var(--sg-background-color, var(--theme-background, var(--jp-layout-color0, #111)));\n",
              "    --sklearn-color-border-box: var(--sg-text-color, var(--theme-code-foreground, var(--jp-content-font-color1, white)));\n",
              "    --sklearn-color-icon: #878787;\n",
              "  }\n",
              "}\n",
              "\n",
              "#sk-container-id-2 {\n",
              "  color: var(--sklearn-color-text);\n",
              "}\n",
              "\n",
              "#sk-container-id-2 pre {\n",
              "  padding: 0;\n",
              "}\n",
              "\n",
              "#sk-container-id-2 input.sk-hidden--visually {\n",
              "  border: 0;\n",
              "  clip: rect(1px 1px 1px 1px);\n",
              "  clip: rect(1px, 1px, 1px, 1px);\n",
              "  height: 1px;\n",
              "  margin: -1px;\n",
              "  overflow: hidden;\n",
              "  padding: 0;\n",
              "  position: absolute;\n",
              "  width: 1px;\n",
              "}\n",
              "\n",
              "#sk-container-id-2 div.sk-dashed-wrapped {\n",
              "  border: 1px dashed var(--sklearn-color-line);\n",
              "  margin: 0 0.4em 0.5em 0.4em;\n",
              "  box-sizing: border-box;\n",
              "  padding-bottom: 0.4em;\n",
              "  background-color: var(--sklearn-color-background);\n",
              "}\n",
              "\n",
              "#sk-container-id-2 div.sk-container {\n",
              "  /* jupyter's `normalize.less` sets `[hidden] { display: none; }`\n",
              "     but bootstrap.min.css set `[hidden] { display: none !important; }`\n",
              "     so we also need the `!important` here to be able to override the\n",
              "     default hidden behavior on the sphinx rendered scikit-learn.org.\n",
              "     See: https://github.com/scikit-learn/scikit-learn/issues/21755 */\n",
              "  display: inline-block !important;\n",
              "  position: relative;\n",
              "}\n",
              "\n",
              "#sk-container-id-2 div.sk-text-repr-fallback {\n",
              "  display: none;\n",
              "}\n",
              "\n",
              "div.sk-parallel-item,\n",
              "div.sk-serial,\n",
              "div.sk-item {\n",
              "  /* draw centered vertical line to link estimators */\n",
              "  background-image: linear-gradient(var(--sklearn-color-text-on-default-background), var(--sklearn-color-text-on-default-background));\n",
              "  background-size: 2px 100%;\n",
              "  background-repeat: no-repeat;\n",
              "  background-position: center center;\n",
              "}\n",
              "\n",
              "/* Parallel-specific style estimator block */\n",
              "\n",
              "#sk-container-id-2 div.sk-parallel-item::after {\n",
              "  content: \"\";\n",
              "  width: 100%;\n",
              "  border-bottom: 2px solid var(--sklearn-color-text-on-default-background);\n",
              "  flex-grow: 1;\n",
              "}\n",
              "\n",
              "#sk-container-id-2 div.sk-parallel {\n",
              "  display: flex;\n",
              "  align-items: stretch;\n",
              "  justify-content: center;\n",
              "  background-color: var(--sklearn-color-background);\n",
              "  position: relative;\n",
              "}\n",
              "\n",
              "#sk-container-id-2 div.sk-parallel-item {\n",
              "  display: flex;\n",
              "  flex-direction: column;\n",
              "}\n",
              "\n",
              "#sk-container-id-2 div.sk-parallel-item:first-child::after {\n",
              "  align-self: flex-end;\n",
              "  width: 50%;\n",
              "}\n",
              "\n",
              "#sk-container-id-2 div.sk-parallel-item:last-child::after {\n",
              "  align-self: flex-start;\n",
              "  width: 50%;\n",
              "}\n",
              "\n",
              "#sk-container-id-2 div.sk-parallel-item:only-child::after {\n",
              "  width: 0;\n",
              "}\n",
              "\n",
              "/* Serial-specific style estimator block */\n",
              "\n",
              "#sk-container-id-2 div.sk-serial {\n",
              "  display: flex;\n",
              "  flex-direction: column;\n",
              "  align-items: center;\n",
              "  background-color: var(--sklearn-color-background);\n",
              "  padding-right: 1em;\n",
              "  padding-left: 1em;\n",
              "}\n",
              "\n",
              "\n",
              "/* Toggleable style: style used for estimator/Pipeline/ColumnTransformer box that is\n",
              "clickable and can be expanded/collapsed.\n",
              "- Pipeline and ColumnTransformer use this feature and define the default style\n",
              "- Estimators will overwrite some part of the style using the `sk-estimator` class\n",
              "*/\n",
              "\n",
              "/* Pipeline and ColumnTransformer style (default) */\n",
              "\n",
              "#sk-container-id-2 div.sk-toggleable {\n",
              "  /* Default theme specific background. It is overwritten whether we have a\n",
              "  specific estimator or a Pipeline/ColumnTransformer */\n",
              "  background-color: var(--sklearn-color-background);\n",
              "}\n",
              "\n",
              "/* Toggleable label */\n",
              "#sk-container-id-2 label.sk-toggleable__label {\n",
              "  cursor: pointer;\n",
              "  display: flex;\n",
              "  width: 100%;\n",
              "  margin-bottom: 0;\n",
              "  padding: 0.5em;\n",
              "  box-sizing: border-box;\n",
              "  text-align: center;\n",
              "  align-items: start;\n",
              "  justify-content: space-between;\n",
              "  gap: 0.5em;\n",
              "}\n",
              "\n",
              "#sk-container-id-2 label.sk-toggleable__label .caption {\n",
              "  font-size: 0.6rem;\n",
              "  font-weight: lighter;\n",
              "  color: var(--sklearn-color-text-muted);\n",
              "}\n",
              "\n",
              "#sk-container-id-2 label.sk-toggleable__label-arrow:before {\n",
              "  /* Arrow on the left of the label */\n",
              "  content: \"▸\";\n",
              "  float: left;\n",
              "  margin-right: 0.25em;\n",
              "  color: var(--sklearn-color-icon);\n",
              "}\n",
              "\n",
              "#sk-container-id-2 label.sk-toggleable__label-arrow:hover:before {\n",
              "  color: var(--sklearn-color-text);\n",
              "}\n",
              "\n",
              "/* Toggleable content - dropdown */\n",
              "\n",
              "#sk-container-id-2 div.sk-toggleable__content {\n",
              "  max-height: 0;\n",
              "  max-width: 0;\n",
              "  overflow: hidden;\n",
              "  text-align: left;\n",
              "  /* unfitted */\n",
              "  background-color: var(--sklearn-color-unfitted-level-0);\n",
              "}\n",
              "\n",
              "#sk-container-id-2 div.sk-toggleable__content.fitted {\n",
              "  /* fitted */\n",
              "  background-color: var(--sklearn-color-fitted-level-0);\n",
              "}\n",
              "\n",
              "#sk-container-id-2 div.sk-toggleable__content pre {\n",
              "  margin: 0.2em;\n",
              "  border-radius: 0.25em;\n",
              "  color: var(--sklearn-color-text);\n",
              "  /* unfitted */\n",
              "  background-color: var(--sklearn-color-unfitted-level-0);\n",
              "}\n",
              "\n",
              "#sk-container-id-2 div.sk-toggleable__content.fitted pre {\n",
              "  /* unfitted */\n",
              "  background-color: var(--sklearn-color-fitted-level-0);\n",
              "}\n",
              "\n",
              "#sk-container-id-2 input.sk-toggleable__control:checked~div.sk-toggleable__content {\n",
              "  /* Expand drop-down */\n",
              "  max-height: 200px;\n",
              "  max-width: 100%;\n",
              "  overflow: auto;\n",
              "}\n",
              "\n",
              "#sk-container-id-2 input.sk-toggleable__control:checked~label.sk-toggleable__label-arrow:before {\n",
              "  content: \"▾\";\n",
              "}\n",
              "\n",
              "/* Pipeline/ColumnTransformer-specific style */\n",
              "\n",
              "#sk-container-id-2 div.sk-label input.sk-toggleable__control:checked~label.sk-toggleable__label {\n",
              "  color: var(--sklearn-color-text);\n",
              "  background-color: var(--sklearn-color-unfitted-level-2);\n",
              "}\n",
              "\n",
              "#sk-container-id-2 div.sk-label.fitted input.sk-toggleable__control:checked~label.sk-toggleable__label {\n",
              "  background-color: var(--sklearn-color-fitted-level-2);\n",
              "}\n",
              "\n",
              "/* Estimator-specific style */\n",
              "\n",
              "/* Colorize estimator box */\n",
              "#sk-container-id-2 div.sk-estimator input.sk-toggleable__control:checked~label.sk-toggleable__label {\n",
              "  /* unfitted */\n",
              "  background-color: var(--sklearn-color-unfitted-level-2);\n",
              "}\n",
              "\n",
              "#sk-container-id-2 div.sk-estimator.fitted input.sk-toggleable__control:checked~label.sk-toggleable__label {\n",
              "  /* fitted */\n",
              "  background-color: var(--sklearn-color-fitted-level-2);\n",
              "}\n",
              "\n",
              "#sk-container-id-2 div.sk-label label.sk-toggleable__label,\n",
              "#sk-container-id-2 div.sk-label label {\n",
              "  /* The background is the default theme color */\n",
              "  color: var(--sklearn-color-text-on-default-background);\n",
              "}\n",
              "\n",
              "/* On hover, darken the color of the background */\n",
              "#sk-container-id-2 div.sk-label:hover label.sk-toggleable__label {\n",
              "  color: var(--sklearn-color-text);\n",
              "  background-color: var(--sklearn-color-unfitted-level-2);\n",
              "}\n",
              "\n",
              "/* Label box, darken color on hover, fitted */\n",
              "#sk-container-id-2 div.sk-label.fitted:hover label.sk-toggleable__label.fitted {\n",
              "  color: var(--sklearn-color-text);\n",
              "  background-color: var(--sklearn-color-fitted-level-2);\n",
              "}\n",
              "\n",
              "/* Estimator label */\n",
              "\n",
              "#sk-container-id-2 div.sk-label label {\n",
              "  font-family: monospace;\n",
              "  font-weight: bold;\n",
              "  display: inline-block;\n",
              "  line-height: 1.2em;\n",
              "}\n",
              "\n",
              "#sk-container-id-2 div.sk-label-container {\n",
              "  text-align: center;\n",
              "}\n",
              "\n",
              "/* Estimator-specific */\n",
              "#sk-container-id-2 div.sk-estimator {\n",
              "  font-family: monospace;\n",
              "  border: 1px dotted var(--sklearn-color-border-box);\n",
              "  border-radius: 0.25em;\n",
              "  box-sizing: border-box;\n",
              "  margin-bottom: 0.5em;\n",
              "  /* unfitted */\n",
              "  background-color: var(--sklearn-color-unfitted-level-0);\n",
              "}\n",
              "\n",
              "#sk-container-id-2 div.sk-estimator.fitted {\n",
              "  /* fitted */\n",
              "  background-color: var(--sklearn-color-fitted-level-0);\n",
              "}\n",
              "\n",
              "/* on hover */\n",
              "#sk-container-id-2 div.sk-estimator:hover {\n",
              "  /* unfitted */\n",
              "  background-color: var(--sklearn-color-unfitted-level-2);\n",
              "}\n",
              "\n",
              "#sk-container-id-2 div.sk-estimator.fitted:hover {\n",
              "  /* fitted */\n",
              "  background-color: var(--sklearn-color-fitted-level-2);\n",
              "}\n",
              "\n",
              "/* Specification for estimator info (e.g. \"i\" and \"?\") */\n",
              "\n",
              "/* Common style for \"i\" and \"?\" */\n",
              "\n",
              ".sk-estimator-doc-link,\n",
              "a:link.sk-estimator-doc-link,\n",
              "a:visited.sk-estimator-doc-link {\n",
              "  float: right;\n",
              "  font-size: smaller;\n",
              "  line-height: 1em;\n",
              "  font-family: monospace;\n",
              "  background-color: var(--sklearn-color-background);\n",
              "  border-radius: 1em;\n",
              "  height: 1em;\n",
              "  width: 1em;\n",
              "  text-decoration: none !important;\n",
              "  margin-left: 0.5em;\n",
              "  text-align: center;\n",
              "  /* unfitted */\n",
              "  border: var(--sklearn-color-unfitted-level-1) 1pt solid;\n",
              "  color: var(--sklearn-color-unfitted-level-1);\n",
              "}\n",
              "\n",
              ".sk-estimator-doc-link.fitted,\n",
              "a:link.sk-estimator-doc-link.fitted,\n",
              "a:visited.sk-estimator-doc-link.fitted {\n",
              "  /* fitted */\n",
              "  border: var(--sklearn-color-fitted-level-1) 1pt solid;\n",
              "  color: var(--sklearn-color-fitted-level-1);\n",
              "}\n",
              "\n",
              "/* On hover */\n",
              "div.sk-estimator:hover .sk-estimator-doc-link:hover,\n",
              ".sk-estimator-doc-link:hover,\n",
              "div.sk-label-container:hover .sk-estimator-doc-link:hover,\n",
              ".sk-estimator-doc-link:hover {\n",
              "  /* unfitted */\n",
              "  background-color: var(--sklearn-color-unfitted-level-3);\n",
              "  color: var(--sklearn-color-background);\n",
              "  text-decoration: none;\n",
              "}\n",
              "\n",
              "div.sk-estimator.fitted:hover .sk-estimator-doc-link.fitted:hover,\n",
              ".sk-estimator-doc-link.fitted:hover,\n",
              "div.sk-label-container:hover .sk-estimator-doc-link.fitted:hover,\n",
              ".sk-estimator-doc-link.fitted:hover {\n",
              "  /* fitted */\n",
              "  background-color: var(--sklearn-color-fitted-level-3);\n",
              "  color: var(--sklearn-color-background);\n",
              "  text-decoration: none;\n",
              "}\n",
              "\n",
              "/* Span, style for the box shown on hovering the info icon */\n",
              ".sk-estimator-doc-link span {\n",
              "  display: none;\n",
              "  z-index: 9999;\n",
              "  position: relative;\n",
              "  font-weight: normal;\n",
              "  right: .2ex;\n",
              "  padding: .5ex;\n",
              "  margin: .5ex;\n",
              "  width: min-content;\n",
              "  min-width: 20ex;\n",
              "  max-width: 50ex;\n",
              "  color: var(--sklearn-color-text);\n",
              "  box-shadow: 2pt 2pt 4pt #999;\n",
              "  /* unfitted */\n",
              "  background: var(--sklearn-color-unfitted-level-0);\n",
              "  border: .5pt solid var(--sklearn-color-unfitted-level-3);\n",
              "}\n",
              "\n",
              ".sk-estimator-doc-link.fitted span {\n",
              "  /* fitted */\n",
              "  background: var(--sklearn-color-fitted-level-0);\n",
              "  border: var(--sklearn-color-fitted-level-3);\n",
              "}\n",
              "\n",
              ".sk-estimator-doc-link:hover span {\n",
              "  display: block;\n",
              "}\n",
              "\n",
              "/* \"?\"-specific style due to the `<a>` HTML tag */\n",
              "\n",
              "#sk-container-id-2 a.estimator_doc_link {\n",
              "  float: right;\n",
              "  font-size: 1rem;\n",
              "  line-height: 1em;\n",
              "  font-family: monospace;\n",
              "  background-color: var(--sklearn-color-background);\n",
              "  border-radius: 1rem;\n",
              "  height: 1rem;\n",
              "  width: 1rem;\n",
              "  text-decoration: none;\n",
              "  /* unfitted */\n",
              "  color: var(--sklearn-color-unfitted-level-1);\n",
              "  border: var(--sklearn-color-unfitted-level-1) 1pt solid;\n",
              "}\n",
              "\n",
              "#sk-container-id-2 a.estimator_doc_link.fitted {\n",
              "  /* fitted */\n",
              "  border: var(--sklearn-color-fitted-level-1) 1pt solid;\n",
              "  color: var(--sklearn-color-fitted-level-1);\n",
              "}\n",
              "\n",
              "/* On hover */\n",
              "#sk-container-id-2 a.estimator_doc_link:hover {\n",
              "  /* unfitted */\n",
              "  background-color: var(--sklearn-color-unfitted-level-3);\n",
              "  color: var(--sklearn-color-background);\n",
              "  text-decoration: none;\n",
              "}\n",
              "\n",
              "#sk-container-id-2 a.estimator_doc_link.fitted:hover {\n",
              "  /* fitted */\n",
              "  background-color: var(--sklearn-color-fitted-level-3);\n",
              "}\n",
              "</style><div id=\"sk-container-id-2\" class=\"sk-top-container\"><div class=\"sk-text-repr-fallback\"><pre>GridSearchCV(cv=KFold(n_splits=5, random_state=42, shuffle=True),\n",
              "             estimator=XGBRegressor(base_score=None, booster=None,\n",
              "                                    callbacks=None, colsample_bylevel=None,\n",
              "                                    colsample_bynode=None,\n",
              "                                    colsample_bytree=None, device=None,\n",
              "                                    early_stopping_rounds=None,\n",
              "                                    enable_categorical=False, eval_metric=None,\n",
              "                                    feature_types=None, feature_weights=None,\n",
              "                                    gamma=None, grow_policy=None,\n",
              "                                    impo...\n",
              "                                    max_cat_to_onehot=None, max_delta_step=None,\n",
              "                                    max_depth=None, max_leaves=None,\n",
              "                                    min_child_weight=None, missing=nan,\n",
              "                                    monotone_constraints=None,\n",
              "                                    multi_strategy=None, n_estimators=None,\n",
              "                                    n_jobs=-1, num_parallel_tree=None, ...),\n",
              "             n_jobs=-1,\n",
              "             param_grid={&#x27;learning_rate&#x27;: [0.05, 0.1], &#x27;max_depth&#x27;: [3, 5],\n",
              "                         &#x27;n_estimators&#x27;: [100, 300], &#x27;subsample&#x27;: [0.8, 1.0]},\n",
              "             scoring=&#x27;neg_root_mean_squared_error&#x27;)</pre><b>In a Jupyter environment, please rerun this cell to show the HTML representation or trust the notebook. <br />On GitHub, the HTML representation is unable to render, please try loading this page with nbviewer.org.</b></div><div class=\"sk-container\" hidden><div class=\"sk-item sk-dashed-wrapped\"><div class=\"sk-label-container\"><div class=\"sk-label fitted sk-toggleable\"><input class=\"sk-toggleable__control sk-hidden--visually\" id=\"sk-estimator-id-4\" type=\"checkbox\" ><label for=\"sk-estimator-id-4\" class=\"sk-toggleable__label fitted sk-toggleable__label-arrow\"><div><div>GridSearchCV</div></div><div><a class=\"sk-estimator-doc-link fitted\" rel=\"noreferrer\" target=\"_blank\" href=\"https://scikit-learn.org/1.6/modules/generated/sklearn.model_selection.GridSearchCV.html\">?<span>Documentation for GridSearchCV</span></a><span class=\"sk-estimator-doc-link fitted\">i<span>Fitted</span></span></div></label><div class=\"sk-toggleable__content fitted\"><pre>GridSearchCV(cv=KFold(n_splits=5, random_state=42, shuffle=True),\n",
              "             estimator=XGBRegressor(base_score=None, booster=None,\n",
              "                                    callbacks=None, colsample_bylevel=None,\n",
              "                                    colsample_bynode=None,\n",
              "                                    colsample_bytree=None, device=None,\n",
              "                                    early_stopping_rounds=None,\n",
              "                                    enable_categorical=False, eval_metric=None,\n",
              "                                    feature_types=None, feature_weights=None,\n",
              "                                    gamma=None, grow_policy=None,\n",
              "                                    impo...\n",
              "                                    max_cat_to_onehot=None, max_delta_step=None,\n",
              "                                    max_depth=None, max_leaves=None,\n",
              "                                    min_child_weight=None, missing=nan,\n",
              "                                    monotone_constraints=None,\n",
              "                                    multi_strategy=None, n_estimators=None,\n",
              "                                    n_jobs=-1, num_parallel_tree=None, ...),\n",
              "             n_jobs=-1,\n",
              "             param_grid={&#x27;learning_rate&#x27;: [0.05, 0.1], &#x27;max_depth&#x27;: [3, 5],\n",
              "                         &#x27;n_estimators&#x27;: [100, 300], &#x27;subsample&#x27;: [0.8, 1.0]},\n",
              "             scoring=&#x27;neg_root_mean_squared_error&#x27;)</pre></div> </div></div><div class=\"sk-parallel\"><div class=\"sk-parallel-item\"><div class=\"sk-item\"><div class=\"sk-label-container\"><div class=\"sk-label fitted sk-toggleable\"><input class=\"sk-toggleable__control sk-hidden--visually\" id=\"sk-estimator-id-5\" type=\"checkbox\" ><label for=\"sk-estimator-id-5\" class=\"sk-toggleable__label fitted sk-toggleable__label-arrow\"><div><div>best_estimator_: XGBRegressor</div></div></label><div class=\"sk-toggleable__content fitted\"><pre>XGBRegressor(base_score=None, booster=None, callbacks=None,\n",
              "             colsample_bylevel=None, colsample_bynode=None,\n",
              "             colsample_bytree=None, device=None, early_stopping_rounds=None,\n",
              "             enable_categorical=False, eval_metric=None, feature_types=None,\n",
              "             feature_weights=None, gamma=None, grow_policy=None,\n",
              "             importance_type=None, interaction_constraints=None,\n",
              "             learning_rate=0.1, max_bin=None, max_cat_threshold=None,\n",
              "             max_cat_to_onehot=None, max_delta_step=None, max_depth=3,\n",
              "             max_leaves=None, min_child_weight=None, missing=nan,\n",
              "             monotone_constraints=None, multi_strategy=None, n_estimators=300,\n",
              "             n_jobs=-1, num_parallel_tree=None, ...)</pre></div> </div></div><div class=\"sk-serial\"><div class=\"sk-item\"><div class=\"sk-estimator fitted sk-toggleable\"><input class=\"sk-toggleable__control sk-hidden--visually\" id=\"sk-estimator-id-6\" type=\"checkbox\" ><label for=\"sk-estimator-id-6\" class=\"sk-toggleable__label fitted sk-toggleable__label-arrow\"><div><div>XGBRegressor</div></div><div><a class=\"sk-estimator-doc-link fitted\" rel=\"noreferrer\" target=\"_blank\" href=\"https://xgboost.readthedocs.io/en/release_3.0.0/python/python_api.html#xgboost.XGBRegressor\">?<span>Documentation for XGBRegressor</span></a></div></label><div class=\"sk-toggleable__content fitted\"><pre>XGBRegressor(base_score=None, booster=None, callbacks=None,\n",
              "             colsample_bylevel=None, colsample_bynode=None,\n",
              "             colsample_bytree=None, device=None, early_stopping_rounds=None,\n",
              "             enable_categorical=False, eval_metric=None, feature_types=None,\n",
              "             feature_weights=None, gamma=None, grow_policy=None,\n",
              "             importance_type=None, interaction_constraints=None,\n",
              "             learning_rate=0.1, max_bin=None, max_cat_threshold=None,\n",
              "             max_cat_to_onehot=None, max_delta_step=None, max_depth=3,\n",
              "             max_leaves=None, min_child_weight=None, missing=nan,\n",
              "             monotone_constraints=None, multi_strategy=None, n_estimators=300,\n",
              "             n_jobs=-1, num_parallel_tree=None, ...)</pre></div> </div></div></div></div></div></div></div></div></div>"
            ]
          },
          "metadata": {},
          "execution_count": 43
        }
      ]
    },
    {
      "cell_type": "markdown",
      "source": [
        "capturar o melhor modelo de XGBoost"
      ],
      "metadata": {
        "id": "L3yMQ58tsocw"
      }
    },
    {
      "cell_type": "code",
      "source": [
        "best_xgb = grid_search_xgb.best_estimator_\n",
        "\n",
        "print(\"\\n--- Otimização do XGBoost Concluída ---\")\n",
        "print(f\"Os melhores parâmetros encontrados foram: {grid_search_xgb.best_params_}\")\n",
        "print(f\"RMSE médio na validação cruzada (RMSE de Treino): {-grid_search_xgb.best_score_:.4f}\")"
      ],
      "metadata": {
        "colab": {
          "base_uri": "https://localhost:8080/",
          "height": 0
        },
        "id": "QuCq_R0xstBI",
        "outputId": "3b87d817-42c4-4a63-dc6a-38bb82107147"
      },
      "execution_count": 44,
      "outputs": [
        {
          "output_type": "stream",
          "name": "stdout",
          "text": [
            "\n",
            "--- Otimização do XGBoost Concluída ---\n",
            "Os melhores parâmetros encontrados foram: {'learning_rate': 0.1, 'max_depth': 3, 'n_estimators': 300, 'subsample': 1.0}\n",
            "RMSE médio na validação cruzada (RMSE de Treino): 9.0621\n"
          ]
        }
      ]
    },
    {
      "cell_type": "markdown",
      "source": [
        "# **Avaliação final do modelo XGBoost**"
      ],
      "metadata": {
        "id": "rdjWZEQctRII"
      }
    },
    {
      "cell_type": "code",
      "source": [
        "from sklearn.metrics import r2_score, mean_absolute_error, root_mean_squared_error"
      ],
      "metadata": {
        "id": "QBkI3i_0tTkA"
      },
      "execution_count": 45,
      "outputs": []
    },
    {
      "cell_type": "markdown",
      "source": [
        "usar o melhor modelo XGBoost encontrado para fazer previsões"
      ],
      "metadata": {
        "id": "-1H-XF0ctWdQ"
      }
    },
    {
      "cell_type": "code",
      "source": [
        "predictions_xgb = best_xgb.predict(X_test)"
      ],
      "metadata": {
        "id": "sLQlyzNztWQq"
      },
      "execution_count": 46,
      "outputs": []
    },
    {
      "cell_type": "markdown",
      "source": [
        "calcular as metricas de desempenho"
      ],
      "metadata": {
        "id": "j3ztILR-tbeZ"
      }
    },
    {
      "cell_type": "code",
      "source": [
        "r2_xgb = r2_score(y_test, predictions_xgb)\n",
        "mae_xgb = mean_absolute_error(y_test, predictions_xgb)\n",
        "rmse_xgb = root_mean_squared_error(y_test, predictions_xgb)\n",
        "\n",
        "print(\"\\n--- Resultados Finais do Modelo XGBoost no Conjunto de Teste ---\")\n",
        "print(f\"R-quadrado (R²): {r2_xgb:.4f}\")\n",
        "print(f\"Erro Médio Absoluto (MAE): {mae_xgb:.4f}\")\n",
        "print(f\"Raiz do Erro Quadrático Médio (RMSE): {rmse_xgb:.4f}\")"
      ],
      "metadata": {
        "colab": {
          "base_uri": "https://localhost:8080/",
          "height": 0
        },
        "id": "6qAWnm1stdf4",
        "outputId": "f6667302-1884-4b36-9bd2-20da523471c3"
      },
      "execution_count": 47,
      "outputs": [
        {
          "output_type": "stream",
          "name": "stdout",
          "text": [
            "\n",
            "--- Resultados Finais do Modelo XGBoost no Conjunto de Teste ---\n",
            "R-quadrado (R²): 0.7361\n",
            "Erro Médio Absoluto (MAE): 5.3517\n",
            "Raiz do Erro Quadrático Médio (RMSE): 8.0442\n"
          ]
        }
      ]
    },
    {
      "cell_type": "markdown",
      "source": [
        "# **Analise comparativa e decisão de modelo**"
      ],
      "metadata": {
        "id": "qpJHzGObtxka"
      }
    },
    {
      "cell_type": "code",
      "source": [
        "import pandas as pd\n",
        "import seaborn as sns\n",
        "import matplotlib.pyplot as plt"
      ],
      "metadata": {
        "id": "vwo7OmdRt2c4"
      },
      "execution_count": 48,
      "outputs": []
    },
    {
      "cell_type": "markdown",
      "source": [
        "Criar dataframe para a comparação usando as variaves que foram definidas nas células anteriores"
      ],
      "metadata": {
        "id": "sgUkZwKpt8PY"
      }
    },
    {
      "cell_type": "code",
      "source": [
        "results_data = {\n",
        "    'Métrica': ['R-quadrado (R²)', 'Erro Médio Absoluto (MAE)', 'RMSE'],\n",
        "    'Modelo Lasso': [f\"{r2_lasso:.4f}\", f\"{mae_lasso:.4f} horas\", f\"{rmse_lasso:.4f} horas\"],\n",
        "    'Modelo XGBoost': [f\"{r2_xgb:.4f}\", f\"{mae_xgb:.4f} horas\", f\"{rmse_xgb:.4f} horas\"]\n",
        "}\n",
        "results_df = pd.DataFrame(results_data)\n",
        "\n",
        "print(\"--- Tabela de Desempenho Comparativo ---\")\n",
        "print(results_df.to_string(index=False))"
      ],
      "metadata": {
        "colab": {
          "base_uri": "https://localhost:8080/",
          "height": 0
        },
        "id": "Nq6PtuYkvApY",
        "outputId": "456169fa-cd33-4d7e-9490-63132fc92450"
      },
      "execution_count": 49,
      "outputs": [
        {
          "output_type": "stream",
          "name": "stdout",
          "text": [
            "--- Tabela de Desempenho Comparativo ---\n",
            "                  Métrica Modelo Lasso Modelo XGBoost\n",
            "          R-quadrado (R²)       0.7420         0.7361\n",
            "Erro Médio Absoluto (MAE) 5.3086 horas   5.3517 horas\n",
            "                     RMSE 7.9548 horas   8.0442 horas\n"
          ]
        }
      ]
    },
    {
      "cell_type": "markdown",
      "source": [
        "calcular erros de cada modelo"
      ],
      "metadata": {
        "id": "asuZLLMJAb4R"
      }
    },
    {
      "cell_type": "code",
      "source": [
        "erros_lasso = y_test - predictions_lasso\n",
        "erros_xgb = y_test - predictions_xgb"
      ],
      "metadata": {
        "id": "0GLmhxOM6rqy"
      },
      "execution_count": 50,
      "outputs": []
    },
    {
      "cell_type": "markdown",
      "source": [
        "criar datafram com os erros"
      ],
      "metadata": {
        "id": "JkBB5ktjAfmZ"
      }
    },
    {
      "cell_type": "code",
      "source": [
        "df_erros = pd.DataFrame({\n",
        "    \"Modelo Lasso\": erros_lasso,\n",
        "    \"Modelo XGBoost\": erros_xgb\n",
        "})"
      ],
      "metadata": {
        "id": "3S_vfM-kAhra"
      },
      "execution_count": 51,
      "outputs": []
    },
    {
      "cell_type": "markdown",
      "source": [
        "configurar e criar o grafico"
      ],
      "metadata": {
        "id": "TlVi1BWqAxCK"
      }
    },
    {
      "cell_type": "code",
      "source": [
        "plt.figure(figsize=(12,7))\n",
        "sns.set_style(\"white\")"
      ],
      "metadata": {
        "colab": {
          "base_uri": "https://localhost:8080/",
          "height": 34
        },
        "id": "kNFfYcnsAzHS",
        "outputId": "78ba5470-f903-4e43-97fa-457a4d3a74bb"
      },
      "execution_count": 52,
      "outputs": [
        {
          "output_type": "display_data",
          "data": {
            "text/plain": [
              "<Figure size 1200x700 with 0 Axes>"
            ]
          },
          "metadata": {}
        }
      ]
    },
    {
      "cell_type": "markdown",
      "source": [
        "# **Gráfico de comparação**\n",
        "\n",
        "**Pico Mais Alto do Lasso**: A curva verde (Lasso) atinge um ponto de densidade ligeiramente mais alto (mais próximo de 0.07) do que a curva vermelha (XGBoost). Isso significa que o modelo Lasso teve uma frequência maior de previsões com erro muito próximo de zero.\n",
        "\n",
        "**Concentração em Torno de Zero**: Ambas as curvas estão bem centradas em torno da linha preta, indicando que nenhum dos modelos tem um viés (bias) significativo para superestimar ou subestimar as horas.\n",
        "\n",
        "**Dispersão Similar**: A largura das curvas é muito parecida, o que significa que a dispersão geral dos erros é semelhante. No entanto, o pico mais alto do Lasso indica que ele é marginalmente mais consistente."
      ],
      "metadata": {
        "id": "mpDjpzEABB8q"
      }
    },
    {
      "cell_type": "code",
      "source": [
        "sns.kdeplot(data=df_erros, x=\"Modelo Lasso\", label=\"Lasso\", color=\"green\", fill=True, alpha=0.2)\n",
        "sns.kdeplot(data=df_erros, x=\"Modelo XGBoost\", label=\"XGBoost\", color=\"red\", fill=True, alpha=0.2)\n",
        "\n",
        "plt.axvline(x=0, color=\"black\", linestyle=\"--\", linewidth=1.5, label=\"Erro Zero (Perfeito)\")\n",
        "\n",
        "plt.title(\"Distribuição dos Erros de Previsão: Lasso vs. XGBoost\", fontsize=18, pad=20)\n",
        "plt.xlabel(\"Erro de Previsão (Horas Reais - Horas Previstas)\", fontsize=14)\n",
        "plt.ylabel(\"Densidade\", fontsize='large')\n",
        "plt.legend(title=\"Modelos\", fontsize='small')\n",
        "plt.xlim(-50, 50)\n",
        "plt.show()"
      ],
      "metadata": {
        "colab": {
          "base_uri": "https://localhost:8080/",
          "height": 501
        },
        "id": "sq_EcAe8BE4I",
        "outputId": "535d2c86-e45d-468f-bb51-26bb964ced6d"
      },
      "execution_count": 53,
      "outputs": [
        {
          "output_type": "display_data",
          "data": {
            "text/plain": [
              "<Figure size 640x480 with 1 Axes>"
            ],
            "image/png": "[encoded data removed]"
          },
          "metadata": {}
        }
      ]
    },
    {
      "cell_type": "markdown",
      "source": [
        "# **Interpretação e Previsão final**"
      ],
      "metadata": {
        "id": "NoPK7kzYvvcR"
      }
    },
    {
      "cell_type": "markdown",
      "source": [
        "**Interpretação do modelo**"
      ],
      "metadata": {
        "id": "tVAu2f8Rw6Yi"
      }
    },
    {
      "cell_type": "markdown",
      "source": [
        "Criar dataframe com as caracteristicas e seus respectivios coeficientes"
      ],
      "metadata": {
        "id": "DaLpRZTRwI1J"
      }
    },
    {
      "cell_type": "code",
      "source": [
        "coefs = pd.DataFrame({\n",
        "    'Característica': X_train.columns,\n",
        "    'Coeficiente_Lasso': best_lasso.coef_\n",
        "})"
      ],
      "metadata": {
        "id": "DeDEHtkjv-cx"
      },
      "execution_count": 54,
      "outputs": []
    },
    {
      "cell_type": "markdown",
      "source": [
        "filtrar caracteristicas que o Lasso não zerou"
      ],
      "metadata": {
        "id": "9E_IiJf-wY1Q"
      }
    },
    {
      "cell_type": "code",
      "source": [
        "coefs_importantes = coefs[coefs['Coeficiente_Lasso'] != 0].copy()"
      ],
      "metadata": {
        "id": "eYV_symfwb3a"
      },
      "execution_count": 55,
      "outputs": []
    },
    {
      "cell_type": "markdown",
      "source": [
        "criar uma coluna com o valor absoluto do coeficiente para ordenar por importancia"
      ],
      "metadata": {
        "id": "WOqrcpLjwfQA"
      }
    },
    {
      "cell_type": "code",
      "source": [
        "coefs_importantes['Importancia'] = coefs_importantes['Coeficiente_Lasso'].abs()"
      ],
      "metadata": {
        "id": "lG5BQiQwwlLC"
      },
      "execution_count": 56,
      "outputs": []
    },
    {
      "cell_type": "markdown",
      "source": [
        "ordenar da mais importante par a menos importante"
      ],
      "metadata": {
        "id": "fv95EXFGwmhy"
      }
    },
    {
      "cell_type": "code",
      "source": [
        "coefs_importantes_sorted = coefs_importantes.sort_values(by='Importancia', ascending=False)"
      ],
      "metadata": {
        "id": "4-uvRdTQwqUp"
      },
      "execution_count": 57,
      "outputs": []
    },
    {
      "cell_type": "markdown",
      "source": [
        "mostrar as 15 caracteristicas de maior impacto"
      ],
      "metadata": {
        "id": "3TNCOUK9wrKz"
      }
    },
    {
      "cell_type": "code",
      "source": [
        "print(\"\\nTop 15 Características com Maior Impacto no Tempo (HET):\")\n",
        "print(coefs_importantes_sorted[['Característica', 'Coeficiente_Lasso']].head(15).to_string(index=False))"
      ],
      "metadata": {
        "colab": {
          "base_uri": "https://localhost:8080/",
          "height": 0
        },
        "id": "YXVQhBuEwwIg",
        "outputId": "2b695201-d6e7-425b-f764-0f783770827c"
      },
      "execution_count": 58,
      "outputs": [
        {
          "output_type": "stream",
          "name": "stdout",
          "text": [
            "\n",
            "Top 15 Características com Maior Impacto no Tempo (HET):\n",
            "Característica  Coeficiente_Lasso\n",
            "      02.05             17.875647\n",
            "      08.18             17.407262\n",
            "      04.14             16.415970\n",
            "      04.15             15.840653\n",
            "      03.09             13.919911\n",
            "      02.10             13.517051\n",
            "      02.07             12.241909\n",
            "      03.10             12.168251\n",
            "      03.08             11.221820\n",
            "      03.06             10.706455\n",
            "      07.17              9.574918\n",
            "      02.12              8.703049\n",
            "      08.17              8.575688\n",
            "      06.05              8.362892\n",
            "      03.05              8.003893\n"
          ]
        }
      ]
    },
    {
      "cell_type": "markdown",
      "source": [
        "**Previsão Final**"
      ],
      "metadata": {
        "id": "XwOBggCow3JQ"
      }
    },
    {
      "cell_type": "markdown",
      "source": [
        "variavel com as previsões faltantes. usar o melhor modelo do lasso."
      ],
      "metadata": {
        "id": "mCB-P026xonB"
      }
    },
    {
      "cell_type": "code",
      "source": [
        "final_predictions = best_lasso.predict(X_final_prediction)"
      ],
      "metadata": {
        "id": "4NxyuKX1w_Uq"
      },
      "execution_count": 59,
      "outputs": []
    },
    {
      "cell_type": "markdown",
      "source": [
        "adicionar as previsões ao dataframe original que não tinha HET"
      ],
      "metadata": {
        "id": "g8Rw6C6OyiT5"
      }
    },
    {
      "cell_type": "code",
      "source": [
        "df_predict['HET'] = final_predictions"
      ],
      "metadata": {
        "id": "Ym_snmQwymW4"
      },
      "execution_count": 60,
      "outputs": []
    },
    {
      "cell_type": "markdown",
      "source": [
        "mostra as 5 primeiras linhas do dataframe com as previsões preenchidas"
      ],
      "metadata": {
        "id": "6u7eMZFNyojS"
      }
    },
    {
      "cell_type": "code",
      "source": [
        "print(\"\\nAmostra dos dados com a previsão de HET preenchida:\")\n",
        "print(df_predict[['ID', 'HET']].head())"
      ],
      "metadata": {
        "colab": {
          "base_uri": "https://localhost:8080/",
          "height": 0
        },
        "id": "mJbueDQ_yvdo",
        "outputId": "b0addbbe-83cb-4bc1-91ca-7b63114c0024"
      },
      "execution_count": 61,
      "outputs": [
        {
          "output_type": "stream",
          "name": "stdout",
          "text": [
            "\n",
            "Amostra dos dados com a previsão de HET preenchida:\n",
            "          ID        HET\n",
            "9999   10000  19.789423\n",
            "10000  10001  10.312262\n",
            "10001  10002  32.447055\n",
            "10002  10003   8.212117\n",
            "10003  10004  46.971017\n"
          ]
        }
      ]
    },
    {
      "cell_type": "markdown",
      "source": [
        "# **Interpretação com SHAP Values**"
      ],
      "metadata": {
        "id": "GfMNh4ShGljJ"
      }
    },
    {
      "cell_type": "code",
      "source": [
        "import shap"
      ],
      "metadata": {
        "id": "Vs91gHCeXjr2"
      },
      "execution_count": 62,
      "outputs": []
    },
    {
      "cell_type": "markdown",
      "source": [
        "cria \"explicador\" shap"
      ],
      "metadata": {
        "id": "DsAstHPaZncQ"
      }
    },
    {
      "cell_type": "code",
      "source": [
        "explainer_xgb = shap.TreeExplainer(best_xgb)"
      ],
      "metadata": {
        "id": "kZOnqZQ9Zr8v"
      },
      "execution_count": 63,
      "outputs": []
    },
    {
      "cell_type": "markdown",
      "source": [
        "calcula a contribuição de cada caracteristica para cada previsão individual"
      ],
      "metadata": {
        "id": "QSPyAAY5Zu7f"
      }
    },
    {
      "cell_type": "code",
      "source": [
        "shap_values_xgb = explainer_xgb.shap_values(X_test)"
      ],
      "metadata": {
        "id": "6YhQ7SPbZ5sP"
      },
      "execution_count": 64,
      "outputs": []
    },
    {
      "cell_type": "markdown",
      "source": [
        "grafico de importancia global (bar plot)"
      ],
      "metadata": {
        "id": "_hcki4MpaK7H"
      }
    },
    {
      "cell_type": "markdown",
      "source": [
        "Este gráfico ranqueia as características pela sua magnitude de impacto média, ou seja, quais delas mais \"movimentam\" o ponteiro da previsão, independentemente da direção.\n",
        "\n",
        "**Dominância Clara:** A característica 01.02 é, de longe, a mais importante para o modelo XGBoost. Seu impacto médio é quase o triplo da segunda colocada (03.01). Isso indica que saber se o processo tem ou não a característica 01.02 é a informação mais valiosa para o modelo.\n",
        "\n",
        "**Top 3 Consistente**: As características 01.02, 03.01 e 07.14 se destacam como as mais influentes. É muito provável que essas sejam as mesmas que tiveram os maiores coeficientes no seu modelo Lasso. Isso é uma validação cruzada de modelos: quando dois algoritmos diferentes concordam sobre as variáveis mais importantes, nossa confiança nelas aumenta exponencialmente.\n",
        "\n",
        "**Impacto Decrescente:** Após as primeiras características, a importância cai de forma mais gradual, mostrando que há um conjunto secundário de variáveis que contribuem de forma mais modesta, mas ainda relevante, para a previsão."
      ],
      "metadata": {
        "id": "HS6DMztuckmJ"
      }
    },
    {
      "cell_type": "code",
      "source": [
        "plt.title(\"Importância Média das Características (XGBoost)\", fontsize=16)\n",
        "shap.summary_plot(shap_values_xgb, X_test, plot_type=\"bar\", show=False)\n",
        "plt.xlabel(\"Impacto Médio na Previsão (em Horas)\", fontsize=12)\n",
        "plt.title(\"Importância Média das Características (XGBoost)\", fontsize=16)\n",
        "plt.show()"
      ],
      "metadata": {
        "colab": {
          "base_uri": "https://localhost:8080/",
          "height": 957
        },
        "id": "AMmtzS-VaQMA",
        "outputId": "d1f4e4c3-1986-4d2e-e2f1-e340be3b6b04"
      },
      "execution_count": 68,
      "outputs": [
        {
          "output_type": "display_data",
          "data": {
            "text/plain": [
              "<Figure size 800x950 with 1 Axes>"
            ],
            "image/png": "[encoded data removed]"
          },
          "metadata": {}
        }
      ]
    },
    {
      "cell_type": "markdown",
      "source": [
        "grafico de densidade de impacto (Bee swarm plot)"
      ],
      "metadata": {
        "id": "8YnnRDT2aato"
      }
    },
    {
      "cell_type": "markdown",
      "source": [
        "Ele nos diz não apenas quais características são importantes, mas como e por quê. (Lembre-se: vermelho = 1/Presença, azul = 0/Ausência).\n",
        "\n",
        "**01.02 (Aumenta o Tempo):** A análise é cristalina. Quase todos os pontos vermelhos (presença da característica) estão à direita, com valores SHAP positivos. Isso significa que a presença de 01.02 consistentemente e fortemente aumenta a previsão de horas. O impacto pode chegar a adicionar mais de 20 horas à previsão em alguns casos.\n",
        "\n",
        "**03.01 (Diminui o Tempo):** Aqui vemos o oposto. A grande maioria dos pontos vermelhos está à esquerda, com valores SHAP negativos. Portanto, a presença de 03.01 consistentemente diminui a previsão de horas, reduzindo a estimativa em até 5 horas.\n",
        "\n",
        "**07.14 (Aumenta o Tempo):** Similar ao 01.02, mas com um impacto menor. Os pontos vermelhos estão majoritariamente à direita. A presença de 07.14 tende a aumentar a previsão de horas.\n",
        "\n",
        "**07.03, 07.04, 08.02 (Diminuem o Tempo):** Todas essas características mostram um padrão claro onde os pontos vermelhos estão à esquerda da linha zero. A presença de qualquer uma delas contribui para uma redução na previsão de horas.\n",
        "\n",
        "**04.10, 12.02, 06.04 (Aumentam o Tempo):** Essas características, e várias outras abaixo, mostram o padrão de pontos vermelhos à direita, indicando que sua presença aumenta a estimativa de HET.\n",
        "\n",
        "**02.08 (Impacto Misto/Interativo):** Esta é interessante. Vemos pontos vermelhos tanto à esquerda quanto à direita. Isso sugere que o efeito de 02.08 pode depender de outras características. Ele não tem um impacto unidirecional claro, algo que um modelo linear como o Lasso teria dificuldade em capturar."
      ],
      "metadata": {
        "id": "iL1itGyjcxPY"
      }
    },
    {
      "cell_type": "code",
      "source": [
        "print(\"Este gráfico mostra como o valor de uma característica (cor) afeta a previsão (eixo x).\")\n",
        "plt.title(\"Impacto das Características nas Previsões do XGBoost\", fontsize=16)\n",
        "shap.summary_plot(shap_values_xgb, X_test, show=False)\n",
        "plt.xlabel(\"Impacto na Previsão (em Horas)\\n<-- Diminui a previsão | Aumenta a previsão -->\", fontsize=12)\n",
        "cb = plt.gcf().axes[-1] # Pega a última barra de cores criada\n",
        "cb.set_ylabel(\"Valor da Característica (1=Presente, 0=Ausente)\", fontsize=10)\n",
        "plt.show()"
      ],
      "metadata": {
        "colab": {
          "base_uri": "https://localhost:8080/",
          "height": 994
        },
        "id": "dxZel1U3aYi-",
        "outputId": "9bba026e-cffa-4469-f709-a53c71736dc5"
      },
      "execution_count": 69,
      "outputs": [
        {
          "output_type": "stream",
          "name": "stdout",
          "text": [
            "Este gráfico mostra como o valor de uma característica (cor) afeta a previsão (eixo x).\n"
          ]
        },
        {
          "output_type": "display_data",
          "data": {
            "text/plain": [
              "<Figure size 800x950 with 2 Axes>"
            ],
            "image/png": "[encoded data removed]"
          },
          "metadata": {}
        }
      ]
    },
    {
      "cell_type": "markdown",
      "source": [
        "configuração da validação cruzada"
      ],
      "metadata": {
        "id": "DHebbuvugxJY"
      }
    },
    {
      "cell_type": "code",
      "source": [
        "kfold = KFold(n_splits=5, shuffle=True, random_state=42)\n",
        "scoring_metric = 'neg_root_mean_squared_error'"
      ],
      "metadata": {
        "id": "LaWp9docg0yH"
      },
      "execution_count": 71,
      "outputs": []
    },
    {
      "cell_type": "markdown",
      "source": [
        "dicionarios para armazenar os resultados finais"
      ],
      "metadata": {
        "id": "q8uVGedmkgoS"
      }
    },
    {
      "cell_type": "code",
      "source": [
        "model_results = {}\n",
        "model_predictions = {}"
      ],
      "metadata": {
        "id": "KNjuB5uukk3o"
      },
      "execution_count": 78,
      "outputs": []
    },
    {
      "cell_type": "markdown",
      "source": [
        "# **Random Forest**"
      ],
      "metadata": {
        "id": "CKw9b_2Tghw_"
      }
    },
    {
      "cell_type": "code",
      "source": [
        "from sklearn.ensemble import RandomForestRegressor"
      ],
      "metadata": {
        "id": "BklpAFqnhjQo"
      },
      "execution_count": 73,
      "outputs": []
    },
    {
      "cell_type": "code",
      "source": [
        "rf = RandomForestRegressor(random_state=42, n_jobs=-1)\n",
        "param_grid_rf = {\n",
        "    'n_estimators': [100, 200],\n",
        "    'max_depth': [10, None], # None = até a folha ser pura\n",
        "    'min_samples_split': [2, 5]\n",
        "}"
      ],
      "metadata": {
        "id": "PwkX0uBIhZtf"
      },
      "execution_count": 75,
      "outputs": []
    },
    {
      "cell_type": "code",
      "source": [
        "grid_search_rf = GridSearchCV(rf, param_grid_rf, cv=kfold, scoring=scoring_metric, n_jobs=-1)\n",
        "grid_search_rf.fit(X_train, y_train)\n",
        "best_rf = grid_search_rf.best_estimator_\n",
        "predictions_rf = best_rf.predict(X_test)"
      ],
      "metadata": {
        "id": "IruPvIIbhgZz"
      },
      "execution_count": 76,
      "outputs": []
    },
    {
      "cell_type": "code",
      "source": [
        "model_predictions['Random Forest'] = predictions_rf\n",
        "model_results['Random Forest'] = {\n",
        "    'R²': r2_score(y_test, predictions_rf),\n",
        "    'MAE': mean_absolute_error(y_test, predictions_rf),\n",
        "    'RMSE': root_mean_squared_error(y_test, predictions_rf),\n",
        "    'Best Params': grid_search_rf.best_params_\n",
        "}\n",
        "print(f\"Random Forest concluído. Melhores parâmetros: {grid_search_rf.best_params_}\\n\")"
      ],
      "metadata": {
        "colab": {
          "base_uri": "https://localhost:8080/",
          "height": 0
        },
        "id": "YzMi5EDbkcMb",
        "outputId": "1ef3ff15-21f5-4e59-bf7b-ca555cd5239c"
      },
      "execution_count": 79,
      "outputs": [
        {
          "output_type": "stream",
          "name": "stdout",
          "text": [
            "Random Forest concluído. Melhores parâmetros: {'max_depth': None, 'min_samples_split': 5, 'n_estimators': 200}\n",
            "\n"
          ]
        }
      ]
    },
    {
      "cell_type": "markdown",
      "source": [
        "# **Regressão Huber**"
      ],
      "metadata": {
        "id": "dayy-mSAkpJA"
      }
    },
    {
      "cell_type": "code",
      "source": [
        "from sklearn.linear_model import HuberRegressor"
      ],
      "metadata": {
        "id": "CTQVSL-ek9W1"
      },
      "execution_count": 81,
      "outputs": []
    },
    {
      "cell_type": "code",
      "source": [
        "huber = HuberRegressor(max_iter=500)\n",
        "param_grid_huber = {\n",
        "    'epsilon': [1.35, 1.5], # Controla a robustez a outliers\n",
        "    'alpha': [0.0001, 0.01]   # Força da regularização\n",
        "}"
      ],
      "metadata": {
        "id": "H_4iY-Z0k5fA"
      },
      "execution_count": 82,
      "outputs": []
    },
    {
      "cell_type": "code",
      "source": [
        "grid_search_huber = GridSearchCV(huber, param_grid_huber, cv=kfold, scoring=scoring_metric, n_jobs=-1)\n",
        "grid_search_huber.fit(X_train, y_train)\n",
        "best_huber = grid_search_huber.best_estimator_\n",
        "predictions_huber = best_huber.predict(X_test)"
      ],
      "metadata": {
        "id": "Nig7Q5IBlAK2"
      },
      "execution_count": 83,
      "outputs": []
    },
    {
      "cell_type": "code",
      "source": [
        "model_predictions['Huber'] = predictions_huber\n",
        "model_results['Huber Regressor'] = {\n",
        "    'R²': r2_score(y_test, predictions_huber),\n",
        "    'MAE': mean_absolute_error(y_test, predictions_huber),\n",
        "    'RMSE': root_mean_squared_error(y_test, predictions_huber),\n",
        "    'Best Params': grid_search_huber.best_params_\n",
        "}\n",
        "print(f\"Huber Regressor concluído. Melhores parâmetros: {grid_search_huber.best_params_}\\n\")"
      ],
      "metadata": {
        "colab": {
          "base_uri": "https://localhost:8080/",
          "height": 0
        },
        "id": "R7L7_6nhlzzG",
        "outputId": "24bcc888-045d-4d4d-e05e-72455ccf7cc9"
      },
      "execution_count": 84,
      "outputs": [
        {
          "output_type": "stream",
          "name": "stdout",
          "text": [
            "Huber Regressor concluído. Melhores parâmetros: {'alpha': 0.01, 'epsilon': 1.5}\n",
            "\n"
          ]
        }
      ]
    },
    {
      "cell_type": "markdown",
      "source": [
        "explicador shap"
      ],
      "metadata": {
        "id": "1UBtkaF4p4Gf"
      }
    },
    {
      "cell_type": "code",
      "source": [
        "explainer_huber = shap.LinearExplainer(best_huber, X_train)"
      ],
      "metadata": {
        "id": "_H8sODMup5mg"
      },
      "execution_count": 97,
      "outputs": []
    },
    {
      "cell_type": "markdown",
      "source": [
        "calcular valores shap"
      ],
      "metadata": {
        "id": "TIk9fBK7p67-"
      }
    },
    {
      "cell_type": "code",
      "source": [
        "shap_values_huber = explainer_huber.shap_values(X_test)"
      ],
      "metadata": {
        "id": "RsBz81X1p9b-"
      },
      "execution_count": 98,
      "outputs": []
    },
    {
      "cell_type": "markdown",
      "source": [
        "grafico de importancia global"
      ],
      "metadata": {
        "id": "rJzNbvvdqB3W"
      }
    },
    {
      "cell_type": "code",
      "source": [
        "shap.summary_plot(shap_values_huber, X_test, plot_type=\"bar\", show=False)\n",
        "plt.xlabel(\"Impacto Médio na Previsão (em Horas)\", fontsize=12)\n",
        "plt.title(\"Importância das Características (Modelo Huber)\", fontsize=16)\n",
        "plt.show()"
      ],
      "metadata": {
        "colab": {
          "base_uri": "https://localhost:8080/",
          "height": 983
        },
        "id": "9mC49gtsqDgQ",
        "outputId": "54175fa5-4409-4a41-9ce2-8148ed075d46"
      },
      "execution_count": 99,
      "outputs": [
        {
          "output_type": "display_data",
          "data": {
            "text/plain": [
              "<Figure size 800x950 with 1 Axes>"
            ],
            "image/png": "[encoded data removed]"
          },
          "metadata": {}
        }
      ]
    },
    {
      "cell_type": "markdown",
      "source": [
        "grafico de densidade"
      ],
      "metadata": {
        "id": "VKnHXy1kqJyA"
      }
    },
    {
      "cell_type": "code",
      "source": [
        "shap.summary_plot(shap_values_huber, X_test, show=False)\n",
        "plt.xlabel(\"Impacto na Previsão (em Horas)\\n<-- Diminui | Aumenta -->\", fontsize=12)\n",
        "cb = plt.gcf().axes[-1]\n",
        "cb.set_ylabel(\"Valor da Característica (1=Presente, 0=Ausente)\", fontsize=10)\n",
        "plt.title(\"Impacto das Características nas Previsões (Modelo Huber)\", fontsize=16)\n",
        "plt.show()"
      ],
      "metadata": {
        "colab": {
          "base_uri": "https://localhost:8080/",
          "height": 997
        },
        "id": "A2PGprtGqM9f",
        "outputId": "1f852e81-cbf6-42a8-9f09-b0d60b227a8b"
      },
      "execution_count": 100,
      "outputs": [
        {
          "output_type": "display_data",
          "data": {
            "text/plain": [
              "<Figure size 800x950 with 2 Axes>"
            ],
            "image/png": "[encoded data removed]"
          },
          "metadata": {}
        }
      ]
    },
    {
      "cell_type": "markdown",
      "source": [
        "# **Otimização de hiperparâmetros do Huber**"
      ],
      "metadata": {
        "id": "oD9MwAJ7sF55"
      }
    },
    {
      "cell_type": "markdown",
      "source": [
        "configurar modelo base"
      ],
      "metadata": {
        "id": "C0hCyVW0tFhn"
      }
    },
    {
      "cell_type": "code",
      "source": [
        "huber_advanced = HuberRegressor(max_iter=1000)"
      ],
      "metadata": {
        "id": "xTZSzLR7sNs-"
      },
      "execution_count": 101,
      "outputs": []
    },
    {
      "cell_type": "markdown",
      "source": [
        "definir grade de parametros"
      ],
      "metadata": {
        "id": "Uu7Anwz7tC4O"
      }
    },
    {
      "cell_type": "code",
      "source": [
        "param_grid_huber_advanced = {\n",
        "    'epsilon': [1.1, 1.25, 1.35, 1.5, 1.75, 2.0],\n",
        "    'alpha': [0.0001, 0.001, 0.01, 0.1, 1.0]\n",
        "}"
      ],
      "metadata": {
        "id": "faO4TbndtAg_"
      },
      "execution_count": 102,
      "outputs": []
    },
    {
      "cell_type": "markdown",
      "source": [
        "mesma configuração de validação cruzada"
      ],
      "metadata": {
        "id": "PDq_v7QZtaeO"
      }
    },
    {
      "cell_type": "code",
      "source": [
        "kfold = KFold(n_splits=5, shuffle=True, random_state=42)\n",
        "scoring_metric = 'neg_root_mean_squared_error'"
      ],
      "metadata": {
        "id": "gImF9tActYrI"
      },
      "execution_count": 103,
      "outputs": []
    },
    {
      "cell_type": "markdown",
      "source": [
        "configurar e executar GridSearchCV"
      ],
      "metadata": {
        "id": "dK7_8YKfthQu"
      }
    },
    {
      "cell_type": "code",
      "source": [
        "grid_search_huber_advanced = GridSearchCV(\n",
        "    estimator=huber_advanced,\n",
        "    param_grid=param_grid_huber_advanced,\n",
        "    cv=kfold,\n",
        "    scoring=scoring_metric,\n",
        "    n_jobs=-1\n",
        ")"
      ],
      "metadata": {
        "id": "5ax-bP1utlTH"
      },
      "execution_count": 105,
      "outputs": []
    },
    {
      "cell_type": "markdown",
      "source": [
        "treina modelo"
      ],
      "metadata": {
        "id": "KgLDD04jtrNu"
      }
    },
    {
      "cell_type": "code",
      "source": [
        "grid_search_huber_advanced.fit(X_train, y_train)"
      ],
      "metadata": {
        "colab": {
          "base_uri": "https://localhost:8080/",
          "height": 166
        },
        "id": "w-hFMxC8tqFX",
        "outputId": "fc31d705-c4d1-420f-c60a-0815194f501d"
      },
      "execution_count": 106,
      "outputs": [
        {
          "output_type": "execute_result",
          "data": {
            "text/plain": [
              "GridSearchCV(cv=KFold(n_splits=5, random_state=42, shuffle=True),\n",
              "             estimator=HuberRegressor(max_iter=1000), n_jobs=-1,\n",
              "             param_grid={'alpha': [0.0001, 0.001, 0.01, 0.1, 1.0],\n",
              "                         'epsilon': [1.1, 1.25, 1.35, 1.5, 1.75, 2.0]},\n",
              "             scoring='neg_root_mean_squared_error')"
            ],
            "text/html": [
              "<style>#sk-container-id-3 {\n",
              "  /* Definition of color scheme common for light and dark mode */\n",
              "  --sklearn-color-text: #000;\n",
              "  --sklearn-color-text-muted: #666;\n",
              "  --sklearn-color-line: gray;\n",
              "  /* Definition of color scheme for unfitted estimators */\n",
              "  --sklearn-color-unfitted-level-0: #fff5e6;\n",
              "  --sklearn-color-unfitted-level-1: #f6e4d2;\n",
              "  --sklearn-color-unfitted-level-2: #ffe0b3;\n",
              "  --sklearn-color-unfitted-level-3: chocolate;\n",
              "  /* Definition of color scheme for fitted estimators */\n",
              "  --sklearn-color-fitted-level-0: #f0f8ff;\n",
              "  --sklearn-color-fitted-level-1: #d4ebff;\n",
              "  --sklearn-color-fitted-level-2: #b3dbfd;\n",
              "  --sklearn-color-fitted-level-3: cornflowerblue;\n",
              "\n",
              "  /* Specific color for light theme */\n",
              "  --sklearn-color-text-on-default-background: var(--sg-text-color, var(--theme-code-foreground, var(--jp-content-font-color1, black)));\n",
              "  --sklearn-color-background: var(--sg-background-color, var(--theme-background, var(--jp-layout-color0, white)));\n",
              "  --sklearn-color-border-box: var(--sg-text-color, var(--theme-code-foreground, var(--jp-content-font-color1, black)));\n",
              "  --sklearn-color-icon: #696969;\n",
              "\n",
              "  @media (prefers-color-scheme: dark) {\n",
              "    /* Redefinition of color scheme for dark theme */\n",
              "    --sklearn-color-text-on-default-background: var(--sg-text-color, var(--theme-code-foreground, var(--jp-content-font-color1, white)));\n",
              "    --sklearn-color-background: var(--sg-background-color, var(--theme-background, var(--jp-layout-color0, #111)));\n",
              "    --sklearn-color-border-box: var(--sg-text-color, var(--theme-code-foreground, var(--jp-content-font-color1, white)));\n",
              "    --sklearn-color-icon: #878787;\n",
              "  }\n",
              "}\n",
              "\n",
              "#sk-container-id-3 {\n",
              "  color: var(--sklearn-color-text);\n",
              "}\n",
              "\n",
              "#sk-container-id-3 pre {\n",
              "  padding: 0;\n",
              "}\n",
              "\n",
              "#sk-container-id-3 input.sk-hidden--visually {\n",
              "  border: 0;\n",
              "  clip: rect(1px 1px 1px 1px);\n",
              "  clip: rect(1px, 1px, 1px, 1px);\n",
              "  height: 1px;\n",
              "  margin: -1px;\n",
              "  overflow: hidden;\n",
              "  padding: 0;\n",
              "  position: absolute;\n",
              "  width: 1px;\n",
              "}\n",
              "\n",
              "#sk-container-id-3 div.sk-dashed-wrapped {\n",
              "  border: 1px dashed var(--sklearn-color-line);\n",
              "  margin: 0 0.4em 0.5em 0.4em;\n",
              "  box-sizing: border-box;\n",
              "  padding-bottom: 0.4em;\n",
              "  background-color: var(--sklearn-color-background);\n",
              "}\n",
              "\n",
              "#sk-container-id-3 div.sk-container {\n",
              "  /* jupyter's `normalize.less` sets `[hidden] { display: none; }`\n",
              "     but bootstrap.min.css set `[hidden] { display: none !important; }`\n",
              "     so we also need the `!important` here to be able to override the\n",
              "     default hidden behavior on the sphinx rendered scikit-learn.org.\n",
              "     See: https://github.com/scikit-learn/scikit-learn/issues/21755 */\n",
              "  display: inline-block !important;\n",
              "  position: relative;\n",
              "}\n",
              "\n",
              "#sk-container-id-3 div.sk-text-repr-fallback {\n",
              "  display: none;\n",
              "}\n",
              "\n",
              "div.sk-parallel-item,\n",
              "div.sk-serial,\n",
              "div.sk-item {\n",
              "  /* draw centered vertical line to link estimators */\n",
              "  background-image: linear-gradient(var(--sklearn-color-text-on-default-background), var(--sklearn-color-text-on-default-background));\n",
              "  background-size: 2px 100%;\n",
              "  background-repeat: no-repeat;\n",
              "  background-position: center center;\n",
              "}\n",
              "\n",
              "/* Parallel-specific style estimator block */\n",
              "\n",
              "#sk-container-id-3 div.sk-parallel-item::after {\n",
              "  content: \"\";\n",
              "  width: 100%;\n",
              "  border-bottom: 2px solid var(--sklearn-color-text-on-default-background);\n",
              "  flex-grow: 1;\n",
              "}\n",
              "\n",
              "#sk-container-id-3 div.sk-parallel {\n",
              "  display: flex;\n",
              "  align-items: stretch;\n",
              "  justify-content: center;\n",
              "  background-color: var(--sklearn-color-background);\n",
              "  position: relative;\n",
              "}\n",
              "\n",
              "#sk-container-id-3 div.sk-parallel-item {\n",
              "  display: flex;\n",
              "  flex-direction: column;\n",
              "}\n",
              "\n",
              "#sk-container-id-3 div.sk-parallel-item:first-child::after {\n",
              "  align-self: flex-end;\n",
              "  width: 50%;\n",
              "}\n",
              "\n",
              "#sk-container-id-3 div.sk-parallel-item:last-child::after {\n",
              "  align-self: flex-start;\n",
              "  width: 50%;\n",
              "}\n",
              "\n",
              "#sk-container-id-3 div.sk-parallel-item:only-child::after {\n",
              "  width: 0;\n",
              "}\n",
              "\n",
              "/* Serial-specific style estimator block */\n",
              "\n",
              "#sk-container-id-3 div.sk-serial {\n",
              "  display: flex;\n",
              "  flex-direction: column;\n",
              "  align-items: center;\n",
              "  background-color: var(--sklearn-color-background);\n",
              "  padding-right: 1em;\n",
              "  padding-left: 1em;\n",
              "}\n",
              "\n",
              "\n",
              "/* Toggleable style: style used for estimator/Pipeline/ColumnTransformer box that is\n",
              "clickable and can be expanded/collapsed.\n",
              "- Pipeline and ColumnTransformer use this feature and define the default style\n",
              "- Estimators will overwrite some part of the style using the `sk-estimator` class\n",
              "*/\n",
              "\n",
              "/* Pipeline and ColumnTransformer style (default) */\n",
              "\n",
              "#sk-container-id-3 div.sk-toggleable {\n",
              "  /* Default theme specific background. It is overwritten whether we have a\n",
              "  specific estimator or a Pipeline/ColumnTransformer */\n",
              "  background-color: var(--sklearn-color-background);\n",
              "}\n",
              "\n",
              "/* Toggleable label */\n",
              "#sk-container-id-3 label.sk-toggleable__label {\n",
              "  cursor: pointer;\n",
              "  display: flex;\n",
              "  width: 100%;\n",
              "  margin-bottom: 0;\n",
              "  padding: 0.5em;\n",
              "  box-sizing: border-box;\n",
              "  text-align: center;\n",
              "  align-items: start;\n",
              "  justify-content: space-between;\n",
              "  gap: 0.5em;\n",
              "}\n",
              "\n",
              "#sk-container-id-3 label.sk-toggleable__label .caption {\n",
              "  font-size: 0.6rem;\n",
              "  font-weight: lighter;\n",
              "  color: var(--sklearn-color-text-muted);\n",
              "}\n",
              "\n",
              "#sk-container-id-3 label.sk-toggleable__label-arrow:before {\n",
              "  /* Arrow on the left of the label */\n",
              "  content: \"▸\";\n",
              "  float: left;\n",
              "  margin-right: 0.25em;\n",
              "  color: var(--sklearn-color-icon);\n",
              "}\n",
              "\n",
              "#sk-container-id-3 label.sk-toggleable__label-arrow:hover:before {\n",
              "  color: var(--sklearn-color-text);\n",
              "}\n",
              "\n",
              "/* Toggleable content - dropdown */\n",
              "\n",
              "#sk-container-id-3 div.sk-toggleable__content {\n",
              "  max-height: 0;\n",
              "  max-width: 0;\n",
              "  overflow: hidden;\n",
              "  text-align: left;\n",
              "  /* unfitted */\n",
              "  background-color: var(--sklearn-color-unfitted-level-0);\n",
              "}\n",
              "\n",
              "#sk-container-id-3 div.sk-toggleable__content.fitted {\n",
              "  /* fitted */\n",
              "  background-color: var(--sklearn-color-fitted-level-0);\n",
              "}\n",
              "\n",
              "#sk-container-id-3 div.sk-toggleable__content pre {\n",
              "  margin: 0.2em;\n",
              "  border-radius: 0.25em;\n",
              "  color: var(--sklearn-color-text);\n",
              "  /* unfitted */\n",
              "  background-color: var(--sklearn-color-unfitted-level-0);\n",
              "}\n",
              "\n",
              "#sk-container-id-3 div.sk-toggleable__content.fitted pre {\n",
              "  /* unfitted */\n",
              "  background-color: var(--sklearn-color-fitted-level-0);\n",
              "}\n",
              "\n",
              "#sk-container-id-3 input.sk-toggleable__control:checked~div.sk-toggleable__content {\n",
              "  /* Expand drop-down */\n",
              "  max-height: 200px;\n",
              "  max-width: 100%;\n",
              "  overflow: auto;\n",
              "}\n",
              "\n",
              "#sk-container-id-3 input.sk-toggleable__control:checked~label.sk-toggleable__label-arrow:before {\n",
              "  content: \"▾\";\n",
              "}\n",
              "\n",
              "/* Pipeline/ColumnTransformer-specific style */\n",
              "\n",
              "#sk-container-id-3 div.sk-label input.sk-toggleable__control:checked~label.sk-toggleable__label {\n",
              "  color: var(--sklearn-color-text);\n",
              "  background-color: var(--sklearn-color-unfitted-level-2);\n",
              "}\n",
              "\n",
              "#sk-container-id-3 div.sk-label.fitted input.sk-toggleable__control:checked~label.sk-toggleable__label {\n",
              "  background-color: var(--sklearn-color-fitted-level-2);\n",
              "}\n",
              "\n",
              "/* Estimator-specific style */\n",
              "\n",
              "/* Colorize estimator box */\n",
              "#sk-container-id-3 div.sk-estimator input.sk-toggleable__control:checked~label.sk-toggleable__label {\n",
              "  /* unfitted */\n",
              "  background-color: var(--sklearn-color-unfitted-level-2);\n",
              "}\n",
              "\n",
              "#sk-container-id-3 div.sk-estimator.fitted input.sk-toggleable__control:checked~label.sk-toggleable__label {\n",
              "  /* fitted */\n",
              "  background-color: var(--sklearn-color-fitted-level-2);\n",
              "}\n",
              "\n",
              "#sk-container-id-3 div.sk-label label.sk-toggleable__label,\n",
              "#sk-container-id-3 div.sk-label label {\n",
              "  /* The background is the default theme color */\n",
              "  color: var(--sklearn-color-text-on-default-background);\n",
              "}\n",
              "\n",
              "/* On hover, darken the color of the background */\n",
              "#sk-container-id-3 div.sk-label:hover label.sk-toggleable__label {\n",
              "  color: var(--sklearn-color-text);\n",
              "  background-color: var(--sklearn-color-unfitted-level-2);\n",
              "}\n",
              "\n",
              "/* Label box, darken color on hover, fitted */\n",
              "#sk-container-id-3 div.sk-label.fitted:hover label.sk-toggleable__label.fitted {\n",
              "  color: var(--sklearn-color-text);\n",
              "  background-color: var(--sklearn-color-fitted-level-2);\n",
              "}\n",
              "\n",
              "/* Estimator label */\n",
              "\n",
              "#sk-container-id-3 div.sk-label label {\n",
              "  font-family: monospace;\n",
              "  font-weight: bold;\n",
              "  display: inline-block;\n",
              "  line-height: 1.2em;\n",
              "}\n",
              "\n",
              "#sk-container-id-3 div.sk-label-container {\n",
              "  text-align: center;\n",
              "}\n",
              "\n",
              "/* Estimator-specific */\n",
              "#sk-container-id-3 div.sk-estimator {\n",
              "  font-family: monospace;\n",
              "  border: 1px dotted var(--sklearn-color-border-box);\n",
              "  border-radius: 0.25em;\n",
              "  box-sizing: border-box;\n",
              "  margin-bottom: 0.5em;\n",
              "  /* unfitted */\n",
              "  background-color: var(--sklearn-color-unfitted-level-0);\n",
              "}\n",
              "\n",
              "#sk-container-id-3 div.sk-estimator.fitted {\n",
              "  /* fitted */\n",
              "  background-color: var(--sklearn-color-fitted-level-0);\n",
              "}\n",
              "\n",
              "/* on hover */\n",
              "#sk-container-id-3 div.sk-estimator:hover {\n",
              "  /* unfitted */\n",
              "  background-color: var(--sklearn-color-unfitted-level-2);\n",
              "}\n",
              "\n",
              "#sk-container-id-3 div.sk-estimator.fitted:hover {\n",
              "  /* fitted */\n",
              "  background-color: var(--sklearn-color-fitted-level-2);\n",
              "}\n",
              "\n",
              "/* Specification for estimator info (e.g. \"i\" and \"?\") */\n",
              "\n",
              "/* Common style for \"i\" and \"?\" */\n",
              "\n",
              ".sk-estimator-doc-link,\n",
              "a:link.sk-estimator-doc-link,\n",
              "a:visited.sk-estimator-doc-link {\n",
              "  float: right;\n",
              "  font-size: smaller;\n",
              "  line-height: 1em;\n",
              "  font-family: monospace;\n",
              "  background-color: var(--sklearn-color-background);\n",
              "  border-radius: 1em;\n",
              "  height: 1em;\n",
              "  width: 1em;\n",
              "  text-decoration: none !important;\n",
              "  margin-left: 0.5em;\n",
              "  text-align: center;\n",
              "  /* unfitted */\n",
              "  border: var(--sklearn-color-unfitted-level-1) 1pt solid;\n",
              "  color: var(--sklearn-color-unfitted-level-1);\n",
              "}\n",
              "\n",
              ".sk-estimator-doc-link.fitted,\n",
              "a:link.sk-estimator-doc-link.fitted,\n",
              "a:visited.sk-estimator-doc-link.fitted {\n",
              "  /* fitted */\n",
              "  border: var(--sklearn-color-fitted-level-1) 1pt solid;\n",
              "  color: var(--sklearn-color-fitted-level-1);\n",
              "}\n",
              "\n",
              "/* On hover */\n",
              "div.sk-estimator:hover .sk-estimator-doc-link:hover,\n",
              ".sk-estimator-doc-link:hover,\n",
              "div.sk-label-container:hover .sk-estimator-doc-link:hover,\n",
              ".sk-estimator-doc-link:hover {\n",
              "  /* unfitted */\n",
              "  background-color: var(--sklearn-color-unfitted-level-3);\n",
              "  color: var(--sklearn-color-background);\n",
              "  text-decoration: none;\n",
              "}\n",
              "\n",
              "div.sk-estimator.fitted:hover .sk-estimator-doc-link.fitted:hover,\n",
              ".sk-estimator-doc-link.fitted:hover,\n",
              "div.sk-label-container:hover .sk-estimator-doc-link.fitted:hover,\n",
              ".sk-estimator-doc-link.fitted:hover {\n",
              "  /* fitted */\n",
              "  background-color: var(--sklearn-color-fitted-level-3);\n",
              "  color: var(--sklearn-color-background);\n",
              "  text-decoration: none;\n",
              "}\n",
              "\n",
              "/* Span, style for the box shown on hovering the info icon */\n",
              ".sk-estimator-doc-link span {\n",
              "  display: none;\n",
              "  z-index: 9999;\n",
              "  position: relative;\n",
              "  font-weight: normal;\n",
              "  right: .2ex;\n",
              "  padding: .5ex;\n",
              "  margin: .5ex;\n",
              "  width: min-content;\n",
              "  min-width: 20ex;\n",
              "  max-width: 50ex;\n",
              "  color: var(--sklearn-color-text);\n",
              "  box-shadow: 2pt 2pt 4pt #999;\n",
              "  /* unfitted */\n",
              "  background: var(--sklearn-color-unfitted-level-0);\n",
              "  border: .5pt solid var(--sklearn-color-unfitted-level-3);\n",
              "}\n",
              "\n",
              ".sk-estimator-doc-link.fitted span {\n",
              "  /* fitted */\n",
              "  background: var(--sklearn-color-fitted-level-0);\n",
              "  border: var(--sklearn-color-fitted-level-3);\n",
              "}\n",
              "\n",
              ".sk-estimator-doc-link:hover span {\n",
              "  display: block;\n",
              "}\n",
              "\n",
              "/* \"?\"-specific style due to the `<a>` HTML tag */\n",
              "\n",
              "#sk-container-id-3 a.estimator_doc_link {\n",
              "  float: right;\n",
              "  font-size: 1rem;\n",
              "  line-height: 1em;\n",
              "  font-family: monospace;\n",
              "  background-color: var(--sklearn-color-background);\n",
              "  border-radius: 1rem;\n",
              "  height: 1rem;\n",
              "  width: 1rem;\n",
              "  text-decoration: none;\n",
              "  /* unfitted */\n",
              "  color: var(--sklearn-color-unfitted-level-1);\n",
              "  border: var(--sklearn-color-unfitted-level-1) 1pt solid;\n",
              "}\n",
              "\n",
              "#sk-container-id-3 a.estimator_doc_link.fitted {\n",
              "  /* fitted */\n",
              "  border: var(--sklearn-color-fitted-level-1) 1pt solid;\n",
              "  color: var(--sklearn-color-fitted-level-1);\n",
              "}\n",
              "\n",
              "/* On hover */\n",
              "#sk-container-id-3 a.estimator_doc_link:hover {\n",
              "  /* unfitted */\n",
              "  background-color: var(--sklearn-color-unfitted-level-3);\n",
              "  color: var(--sklearn-color-background);\n",
              "  text-decoration: none;\n",
              "}\n",
              "\n",
              "#sk-container-id-3 a.estimator_doc_link.fitted:hover {\n",
              "  /* fitted */\n",
              "  background-color: var(--sklearn-color-fitted-level-3);\n",
              "}\n",
              "</style><div id=\"sk-container-id-3\" class=\"sk-top-container\"><div class=\"sk-text-repr-fallback\"><pre>GridSearchCV(cv=KFold(n_splits=5, random_state=42, shuffle=True),\n",
              "             estimator=HuberRegressor(max_iter=1000), n_jobs=-1,\n",
              "             param_grid={&#x27;alpha&#x27;: [0.0001, 0.001, 0.01, 0.1, 1.0],\n",
              "                         &#x27;epsilon&#x27;: [1.1, 1.25, 1.35, 1.5, 1.75, 2.0]},\n",
              "             scoring=&#x27;neg_root_mean_squared_error&#x27;)</pre><b>In a Jupyter environment, please rerun this cell to show the HTML representation or trust the notebook. <br />On GitHub, the HTML representation is unable to render, please try loading this page with nbviewer.org.</b></div><div class=\"sk-container\" hidden><div class=\"sk-item sk-dashed-wrapped\"><div class=\"sk-label-container\"><div class=\"sk-label fitted sk-toggleable\"><input class=\"sk-toggleable__control sk-hidden--visually\" id=\"sk-estimator-id-7\" type=\"checkbox\" ><label for=\"sk-estimator-id-7\" class=\"sk-toggleable__label fitted sk-toggleable__label-arrow\"><div><div>GridSearchCV</div></div><div><a class=\"sk-estimator-doc-link fitted\" rel=\"noreferrer\" target=\"_blank\" href=\"https://scikit-learn.org/1.6/modules/generated/sklearn.model_selection.GridSearchCV.html\">?<span>Documentation for GridSearchCV</span></a><span class=\"sk-estimator-doc-link fitted\">i<span>Fitted</span></span></div></label><div class=\"sk-toggleable__content fitted\"><pre>GridSearchCV(cv=KFold(n_splits=5, random_state=42, shuffle=True),\n",
              "             estimator=HuberRegressor(max_iter=1000), n_jobs=-1,\n",
              "             param_grid={&#x27;alpha&#x27;: [0.0001, 0.001, 0.01, 0.1, 1.0],\n",
              "                         &#x27;epsilon&#x27;: [1.1, 1.25, 1.35, 1.5, 1.75, 2.0]},\n",
              "             scoring=&#x27;neg_root_mean_squared_error&#x27;)</pre></div> </div></div><div class=\"sk-parallel\"><div class=\"sk-parallel-item\"><div class=\"sk-item\"><div class=\"sk-label-container\"><div class=\"sk-label fitted sk-toggleable\"><input class=\"sk-toggleable__control sk-hidden--visually\" id=\"sk-estimator-id-8\" type=\"checkbox\" ><label for=\"sk-estimator-id-8\" class=\"sk-toggleable__label fitted sk-toggleable__label-arrow\"><div><div>best_estimator_: HuberRegressor</div></div></label><div class=\"sk-toggleable__content fitted\"><pre>HuberRegressor(alpha=0.1, epsilon=2.0, max_iter=1000)</pre></div> </div></div><div class=\"sk-serial\"><div class=\"sk-item\"><div class=\"sk-estimator fitted sk-toggleable\"><input class=\"sk-toggleable__control sk-hidden--visually\" id=\"sk-estimator-id-9\" type=\"checkbox\" ><label for=\"sk-estimator-id-9\" class=\"sk-toggleable__label fitted sk-toggleable__label-arrow\"><div><div>HuberRegressor</div></div><div><a class=\"sk-estimator-doc-link fitted\" rel=\"noreferrer\" target=\"_blank\" href=\"https://scikit-learn.org/1.6/modules/generated/sklearn.linear_model.HuberRegressor.html\">?<span>Documentation for HuberRegressor</span></a></div></label><div class=\"sk-toggleable__content fitted\"><pre>HuberRegressor(alpha=0.1, epsilon=2.0, max_iter=1000)</pre></div> </div></div></div></div></div></div></div></div></div>"
            ]
          },
          "metadata": {},
          "execution_count": 106
        }
      ]
    },
    {
      "cell_type": "markdown",
      "source": [
        "melhor modelo"
      ],
      "metadata": {
        "id": "c1oUch1Lx5BY"
      }
    },
    {
      "cell_type": "code",
      "source": [
        "best_huber_final = grid_search_huber_advanced.best_estimator_"
      ],
      "metadata": {
        "id": "iBD2Hd-8x3DG"
      },
      "execution_count": 107,
      "outputs": []
    },
    {
      "cell_type": "code",
      "source": [
        "print(f\"Os melhores parâmetros encontrados foram: {grid_search_huber_advanced.best_params_}\")\n",
        "print(f\"RMSE médio na validação cruzada (Treino): {-grid_search_huber_advanced.best_score_:.4f}\")"
      ],
      "metadata": {
        "colab": {
          "base_uri": "https://localhost:8080/",
          "height": 0
        },
        "id": "VdIOtz8Jx9Lg",
        "outputId": "2ba83be9-8bc6-4243-fdc1-e622ac060108"
      },
      "execution_count": 108,
      "outputs": [
        {
          "output_type": "stream",
          "name": "stdout",
          "text": [
            "Os melhores parâmetros encontrados foram: {'alpha': 0.1, 'epsilon': 2.0}\n",
            "RMSE médio na validação cruzada (Treino): 8.6941\n"
          ]
        }
      ]
    },
    {
      "cell_type": "markdown",
      "source": [
        "avalia modelo"
      ],
      "metadata": {
        "id": "lzl8yQQNyA6A"
      }
    },
    {
      "cell_type": "code",
      "source": [
        "predictions_huber_final = best_huber_final.predict(X_test)\n",
        "r2_final = r2_score(y_test, predictions_huber_final)\n",
        "mae_final = mean_absolute_error(y_test, predictions_huber_final)\n",
        "rmse_final = root_mean_squared_error(y_test, predictions_huber_final)"
      ],
      "metadata": {
        "id": "xUFL5n9FyCk_"
      },
      "execution_count": 109,
      "outputs": []
    },
    {
      "cell_type": "markdown",
      "source": [
        "novos resultados"
      ],
      "metadata": {
        "id": "mIC4QqmMyE4e"
      }
    },
    {
      "cell_type": "code",
      "source": [
        "print(f\"Novo R-quadrado (R²): {r2_final:.4f}\")\n",
        "print(f\"Novo Erro Médio Absoluto (MAE): {mae_final:.4f}\")\n",
        "print(f\"Nova Raiz do Erro Quadrático Médio (RMSE): {rmse_final:.4f}\")"
      ],
      "metadata": {
        "colab": {
          "base_uri": "https://localhost:8080/",
          "height": 0
        },
        "id": "5cBA7KykyGKe",
        "outputId": "006f7d49-e84b-4032-c75d-8ee34898449e"
      },
      "execution_count": 110,
      "outputs": [
        {
          "output_type": "stream",
          "name": "stdout",
          "text": [
            "Novo R-quadrado (R²): 0.7518\n",
            "Novo Erro Médio Absoluto (MAE): 5.1788\n",
            "Nova Raiz do Erro Quadrático Médio (RMSE): 7.8024\n"
          ]
        }
      ]
    },
    {
      "cell_type": "markdown",
      "source": [
        "comparação com modelo antigo"
      ],
      "metadata": {
        "id": "2fwcRxdYyHaP"
      }
    },
    {
      "cell_type": "code",
      "source": [
        "print(\"\\n--- Comparação com a Versão Anterior do Huber ---\")\n",
        "print(f\"RMSE Anterior: {model_results['Huber Regressor']['RMSE']:.4f}\")\n",
        "print(f\"RMSE Otimizado: {rmse_final:.4f}\")\n",
        "improvement = model_results['Huber Regressor']['RMSE'] - rmse_final\n",
        "if improvement > 0:\n",
        "    print(f\"Melhora de {improvement:.4f} no RMSE!\")\n",
        "else:\n",
        "    print(\"O desempenho permaneceu similar ou não melhorou.\")"
      ],
      "metadata": {
        "colab": {
          "base_uri": "https://localhost:8080/",
          "height": 0
        },
        "id": "iDg5N2mFyJ_3",
        "outputId": "5fbb8db9-cc5a-4cb1-9aa9-524d244f1533"
      },
      "execution_count": 111,
      "outputs": [
        {
          "output_type": "stream",
          "name": "stdout",
          "text": [
            "\n",
            "--- Comparação com a Versão Anterior do Huber ---\n",
            "RMSE Anterior: 7.8861\n",
            "RMSE Otimizado: 7.8024\n",
            "Melhora de 0.0837 no RMSE!\n"
          ]
        }
      ]
    },
    {
      "cell_type": "markdown",
      "source": [
        "# **Perceptron de Múltiplas Camadas**"
      ],
      "metadata": {
        "id": "U1V_fV8dl2F2"
      }
    },
    {
      "cell_type": "code",
      "source": [
        "from sklearn.neural_network import MLPRegressor"
      ],
      "metadata": {
        "id": "KQLiX4ynmsFa"
      },
      "execution_count": 90,
      "outputs": []
    },
    {
      "cell_type": "markdown",
      "source": [
        "Padronização de dados"
      ],
      "metadata": {
        "id": "mRkmCOwpmXJo"
      }
    },
    {
      "cell_type": "code",
      "source": [
        "from sklearn.preprocessing import StandardScaler"
      ],
      "metadata": {
        "id": "9tu-2QTOmh4H"
      },
      "execution_count": 86,
      "outputs": []
    },
    {
      "cell_type": "code",
      "source": [
        "scaler = StandardScaler()\n",
        "X_train_scaled = scaler.fit_transform(X_train)\n",
        "X_test_scaled = scaler.transform(X_test)"
      ],
      "metadata": {
        "id": "AN5071YRmb4X"
      },
      "execution_count": 88,
      "outputs": []
    },
    {
      "cell_type": "code",
      "source": [
        "mlp = MLPRegressor(max_iter=500, random_state=42, early_stopping=True)\n",
        "param_grid_mlp = {\n",
        "    'hidden_layer_sizes': [(50,), (100,), (50, 25)],\n",
        "    'activation': ['relu', 'tanh'],\n",
        "    'alpha': [0.0001, 0.05]\n",
        "}"
      ],
      "metadata": {
        "id": "ObLWWjPnmoM5"
      },
      "execution_count": 91,
      "outputs": []
    },
    {
      "cell_type": "code",
      "source": [
        "grid_search_mlp = GridSearchCV(mlp, param_grid_mlp, cv=kfold, scoring=scoring_metric, n_jobs=-1)\n",
        "grid_search_mlp.fit(X_train_scaled, y_train)\n",
        "best_mlp = grid_search_mlp.best_estimator_\n",
        "predictions_nn = best_mlp.predict(X_test_scaled)"
      ],
      "metadata": {
        "id": "d9EURQEHmxZH"
      },
      "execution_count": 92,
      "outputs": []
    },
    {
      "cell_type": "code",
      "source": [
        "model_predictions['Rede Neural'] = predictions_nn\n",
        "model_results['Rede Neural'] = {\n",
        "    'R²': r2_score(y_test, predictions_nn),\n",
        "    'MAE': mean_absolute_error(y_test, predictions_nn),\n",
        "    'RMSE': root_mean_squared_error(y_test, predictions_nn),\n",
        "    'Best Params': grid_search_mlp.best_params_\n",
        "}\n",
        "print(f\"Rede Neural concluída. Melhores parâmetros: {grid_search_mlp.best_params_}\\n\")"
      ],
      "metadata": {
        "colab": {
          "base_uri": "https://localhost:8080/",
          "height": 0
        },
        "id": "pzqXq02-nuf4",
        "outputId": "e6666346-525e-4cb4-f053-5d709c776dc1"
      },
      "execution_count": 93,
      "outputs": [
        {
          "output_type": "stream",
          "name": "stdout",
          "text": [
            "Rede Neural concluída. Melhores parâmetros: {'activation': 'relu', 'alpha': 0.05, 'hidden_layer_sizes': (50, 25)}\n",
            "\n"
          ]
        }
      ]
    },
    {
      "cell_type": "markdown",
      "source": [
        "# **Comparação Final entre modelos**"
      ],
      "metadata": {
        "id": "iAZvHbV3oD6d"
      }
    },
    {
      "cell_type": "code",
      "source": [
        "model_results['Lasso'] = {'R²': r2_lasso, 'MAE': mae_lasso, 'RMSE': rmse_lasso, 'Best Params': grid_search_lasso.best_params_}\n",
        "model_results['XGBoost'] = {'R²': r2_xgb, 'MAE': mae_xgb, 'RMSE': rmse_xgb, 'Best Params': grid_search_xgb.best_params_}"
      ],
      "metadata": {
        "id": "KJ4oyMBaoHPv"
      },
      "execution_count": 94,
      "outputs": []
    },
    {
      "cell_type": "markdown",
      "source": [
        "**O Huber Regressor se destacou como o melhor modelo em todas as métricas. Ele teve o maior R², o menor MAE e o menor RMSE.**\n",
        "\n",
        "A grande vantagem do Huber é sua capacidade de lidar com outliers (valores muito extremos) na variável alvo (HET). Enquanto a Regressão Linear (e o Lasso) penaliza erros grandes quadraticamente, o Huber os trata de forma linear após um certo limite (epsilon). Isso significa que alguns processos com \"horas faltantes\" muito altas (que podem ser anômalos) não \"puxaram\" o modelo Huber para longe do padrão geral, resultando em um erro médio menor para a maioria dos casos.\n",
        "\n",
        "O fato de que os três melhores modelos (Huber, Lasso e Rede Neural) superaram os modelos baseados em árvores (XGBoost e Random Forest) é uma evidência fortíssima de que a relação subjacente nos seus dados é predominantemente linear. Os modelos de árvore, que buscam interações complexas, acabaram fazendo um leve overfitting nos dados de treino e não generalizaram tão bem quanto os modelos mais simples.\n",
        "\n",
        "A Rede Neural chegou muito perto do desempenho do Lasso. Com mais camadas, neurônios ou um ajuste mais fino, ela poderia até superar. Seus melhores parâmetros (hidden_layer_sizes: (100,)) indicam que uma única camada oculta com 100 neurônios foi a arquitetura mais eficaz.\n",
        "\n",
        "Embora não tenham vencido, o XGBoost e o Random Forest ainda apresentaram resultados decentes. O max_depth: None do Random Forest significa que as árvores cresceram até o fim, o que pode ter levado a um overfitting maior, explicando por que ele ficou em último lugar. O XGBoost, com max_depth: 3, foi mais contido e, por isso, teve um desempenho melhor."
      ],
      "metadata": {
        "id": "iZtb7RTMpR43"
      }
    },
    {
      "cell_type": "code",
      "source": [
        "pd.set_option('display.max_colwidth', None)\n",
        "\n",
        "results_df_final = pd.DataFrame(model_results).T\n",
        "results_df_final_formatted = results_df_final.copy()\n",
        "results_df_final_formatted['R²'] = results_df_final_formatted['R²'].map('{:.4f}'.format)\n",
        "results_df_final_formatted['MAE'] = results_df_final_formatted['MAE'].map('{:.4f}'.format)\n",
        "results_df_final_formatted['RMSE'] = results_df_final_formatted['RMSE'].map('{:.4f}'.format)\n",
        "results_df_final_formatted = results_df_final_formatted.sort_values(by='RMSE')\n",
        "\n",
        "print(results_df_final_formatted[['R²', 'MAE', 'RMSE', 'Best Params']])"
      ],
      "metadata": {
        "colab": {
          "base_uri": "https://localhost:8080/",
          "height": 0
        },
        "id": "-xxJBo0GoJNX",
        "outputId": "27be1ec8-9cf2-4859-cb81-fb2a36a82a43"
      },
      "execution_count": 96,
      "outputs": [
        {
          "output_type": "stream",
          "name": "stdout",
          "text": [
            "                     R²     MAE    RMSE  \\\n",
            "Huber Regressor  0.7464  5.1885  7.8861   \n",
            "Lasso            0.7420  5.3086  7.9548   \n",
            "Rede Neural      0.7417  5.2303  7.9583   \n",
            "XGBoost          0.7361  5.3517  8.0442   \n",
            "Random Forest    0.7257  5.4350  8.2022   \n",
            "\n",
            "                                                                                   Best Params  \n",
            "Huber Regressor                                                {'alpha': 0.01, 'epsilon': 1.5}  \n",
            "Lasso                                                                          {'alpha': 0.01}  \n",
            "Rede Neural              {'activation': 'relu', 'alpha': 0.05, 'hidden_layer_sizes': (50, 25)}  \n",
            "XGBoost          {'learning_rate': 0.1, 'max_depth': 3, 'n_estimators': 300, 'subsample': 1.0}  \n",
            "Random Forest                 {'max_depth': None, 'min_samples_split': 5, 'n_estimators': 200}  \n"
          ]
        }
      ]
    },
    {
      "cell_type": "markdown",
      "source": [
        "# **Comparação Gráfica entre os modelos**"
      ],
      "metadata": {
        "id": "mOm3LsynzQUG"
      }
    },
    {
      "cell_type": "markdown",
      "source": [
        "Calcular/Coletar os erros para todos os cinco modelos"
      ],
      "metadata": {
        "id": "Uf_9CGRezXeI"
      }
    },
    {
      "cell_type": "code",
      "source": [
        "erros_huber_final = y_test - predictions_huber_final\n",
        "erros_lasso = y_test - predictions_lasso\n",
        "erros_xgb = y_test - predictions_xgb\n",
        "erros_rf = y_test - model_predictions['Random Forest']\n",
        "erros_nn = y_test - model_predictions['Rede Neural']"
      ],
      "metadata": {
        "id": "B6mHyQShzTE4"
      },
      "execution_count": 112,
      "outputs": []
    },
    {
      "cell_type": "markdown",
      "source": [
        "Criar dataframe com todos os erros"
      ],
      "metadata": {
        "id": "LHmiDY6tzZPf"
      }
    },
    {
      "cell_type": "code",
      "source": [
        "df_erros_todos = pd.DataFrame({\n",
        "    'Huber Otimizado': erros_huber_final,\n",
        "    'Lasso': erros_lasso,\n",
        "    'Rede Neural': erros_nn,\n",
        "    'XGBoost': erros_xgb,\n",
        "    'Random Forest': erros_rf\n",
        "})"
      ],
      "metadata": {
        "id": "xv-vdGIUzb1R"
      },
      "execution_count": 113,
      "outputs": []
    },
    {
      "cell_type": "markdown",
      "source": [
        "Configurar e criar o gráfico"
      ],
      "metadata": {
        "id": "WwefNJzIzd5Q"
      }
    },
    {
      "cell_type": "markdown",
      "source": [
        "Plotar os erros de cada modelo"
      ],
      "metadata": {
        "id": "023VFlavzhnm"
      }
    },
    {
      "cell_type": "code",
      "source": [
        "fig, ax = plt.subplots(figsize=(16, 8))\n",
        "sns.set_style(\"white\")\n",
        "\n",
        "sns.kdeplot(data=df_erros_todos, x='Huber Otimizado', label='Huber Otimizado (Vencedor)', color='blue', fill=True, alpha=0.05, linewidth=2.5)\n",
        "sns.kdeplot(data=df_erros_todos, x='Lasso', label='Lasso', color='green', fill=False, linewidth=1.5)\n",
        "sns.kdeplot(data=df_erros_todos, x='Rede Neural', label='Rede Neural', color='purple', fill=False, linewidth=1.5, linestyle=':')\n",
        "sns.kdeplot(data=df_erros_todos, x='XGBoost', label='XGBoost', color='red', fill=False, linewidth=1.5)\n",
        "sns.kdeplot(data=df_erros_todos, x='Random Forest', label='Random Forest', color='orange', fill=False, linewidth=1.5)\n",
        "\n",
        "ax.set_title('Distribuição dos Erros de Previsão por Modelo (Competição Completa)', fontsize=20, pad=20)\n",
        "ax.set_xlabel('Erro de Previsão (Horas Reais - Horas Previstas)', fontsize=15)\n",
        "ax.set_ylabel('Densidade', fontsize=15)\n",
        "ax.set_xlim(-50, 50)\n",
        "ax.grid(True, which='both', linestyle='--', linewidth=0.5)\n",
        "\n",
        "ax.legend(title='Modelos', fontsize='large', bbox_to_anchor=(1.02, 0.5), loc='center left')\n",
        "\n",
        "plt.show()"
      ],
      "metadata": {
        "colab": {
          "base_uri": "https://localhost:8080/",
          "height": 669
        },
        "id": "-oUlTQrczjwX",
        "outputId": "245ac683-4756-4362-fec8-5b6b7c648eea"
      },
      "execution_count": 121,
      "outputs": [
        {
          "output_type": "display_data",
          "data": {
            "text/plain": [
              "<Figure size 1600x800 with 1 Axes>"
            ],
            "image/png": "[encoded data removed]"
          },
          "metadata": {}
        }
      ]
    },
    {
      "cell_type": "markdown",
      "source": [
        "**1. Huber Regressor (Azul)**\n",
        "\n",
        "Ele tem o pico mais alto, ou está empatado como o mais alto. Isso confirma o que as métricas nos disseram: ele tem a maior frequência de erros muito próximos de zero.\n",
        "A curva desce abruptamente a partir do pico. Isso significa que ele tem muito poucos erros de tamanho médio (por exemplo, na faixa de +/- 10 a 20 horas). Sua consistência é sua maior força.\n",
        "As caudas são muito finas. Graças à sua robustez inerente a outliers, é o modelo com menor probabilidade de cometer erros catastróficos.\n",
        "É o melhor \"faz-tudo\". Pode não ser o melhor em uma única coisa, mas é muito bom em tudo, e é por isso que venceu nas métricas agregadas (MAE e especialmente RMSE). É o modelo mais confiável e robusto.\n",
        "\n",
        "**Random Forest (Laranja)**\n",
        "\n",
        "Seu pico é extremamente competitivo, no mesmo nível do Huber e da Rede Neural. Ele também é excelente em acertar as previsões muito perto do valor real.\n",
        "Seus \"ombros\" (a área de +/- 5 a +/- 20 horas) parecem ligeiramente mais espessos que os do Huber. Isso significa que ele pode estar cometendo um pouco mais de erros de tamanho médio.\n",
        "As caudas parecem um pouco mais espessas que as do Huber, sugerindo uma chance um pouco maior de cometer um erro grande. É provavelmente por isso que seu RMSE foi o mais alto do grupo — alguns erros grandes, quando elevados ao quadrado, penalizam fortemente a pontuação.\n",
        "O Random Forest é um modelo incrivelmente forte, visualmente quase empatado com o vencedor. Isso prova que os ensembles baseados em árvores são muito poderosos para este problema. Sua pontuação de RMSE um pouco mais fraca provavelmente se deve a um punhado de previsões muito erradas, em vez de uma falta geral de precisão.\n",
        "\n",
        "**Rede Neural (Roxo)**\n",
        "\n",
        "É um especialista em \"acertar em cheio\" quando o padrão é claro.\n",
        "Visualmente, sua curva está quase perfeitamente sobreposta às curvas do Huber e do Random Forest. As diferenças sutis que levaram ao seu RMSE um pouco pior são quase impossíveis de distinguir a olho nu, mas existem nos dados. Provavelmente tem uma distribuição de erros muito semelhante à do Random Forest.\n",
        "Um modelo fantástico, quase indistinguível dos melhores desempenhos visualmente. Confirma que padrões complexos e não-lineares existem, mas talvez não o suficiente para lhe dar uma vantagem decisiva sobre a abordagem robusta-linear do Huber.\n",
        "\n",
        "**Lasso (Verde)**\n",
        "Seu pico é visivelmente apenas uma fração mais baixo que os três primeiros. É bom, mas não de elite, em produzir previsões quase perfeitas.\n",
        "A curva inteira é ligeiramente \"mais baixa e mais gorda\" que a do Huber, indicando uma dispersão geral de erros maior, o que corresponde perfeitamente às suas pontuações de MAE e RMSE um pouco mais altas.\n",
        "É um modelo de linha de base sólido e confiável. Ele captura as principais tendências lineares de forma eficaz, mas carece da precisão extra dos principais concorrentes.\n",
        "\n",
        "**XGBoost (Vermelho)**\n",
        "\n",
        "O pico da curva vermelha é notavelmente o mais baixo do grupo. Este é o indicador visual mais claro de sua lacuna de desempenho. Teve a menor frequência de erros muito pequenos.\n",
        "Seus ombros são os mais largos, mostrando mais erros de médio a grande porte.\n",
        "Esses dados visuais confirmam que, para este problema específico e com este nível de ajuste de hiperparâmetros, o XGBoost foi o modelo menos preciso. Esta é uma descoberta valiosa — mostra que o algoritmo mais famoso ou complexo nem sempre é o melhor.\n",
        "\n",
        "**O Huber vence por pontos devido às suas métricas agregadas superiores (especialmente RMSE), tornando-o a escolha mais robusta e confiável.**"
      ],
      "metadata": {
        "id": "kbN9wZq_2-CV"
      }
    },
    {
      "cell_type": "markdown",
      "source": [
        "# **Salvando modelo**"
      ],
      "metadata": {
        "id": "9FxkCp9-4uZP"
      }
    },
    {
      "cell_type": "code",
      "source": [
        "import joblib\n",
        "import os"
      ],
      "metadata": {
        "id": "fIS0MwX34xev"
      },
      "execution_count": 122,
      "outputs": []
    },
    {
      "cell_type": "code",
      "source": [
        "model_filename = 'modelo_huber_final.joblib'\n",
        "scaler_filename = 'scaler.joblib'"
      ],
      "metadata": {
        "id": "4KUowc7X4z5A"
      },
      "execution_count": 123,
      "outputs": []
    },
    {
      "cell_type": "code",
      "source": [
        "joblib.dump(best_huber_final, model_filename)\n",
        "print(f\"Modelo Huber salvo com sucesso em: '{os.path.abspath(model_filename)}'\")"
      ],
      "metadata": {
        "colab": {
          "base_uri": "https://localhost:8080/",
          "height": 0
        },
        "id": "fKLRtCJI42si",
        "outputId": "ec8cef26-f79b-480a-a16f-56ca3b13fb13"
      },
      "execution_count": 124,
      "outputs": [
        {
          "output_type": "stream",
          "name": "stdout",
          "text": [
            "Modelo Huber salvo com sucesso em: '/content/modelo_huber_final.joblib'\n"
          ]
        }
      ]
    },
    {
      "cell_type": "code",
      "source": [
        "joblib.dump(scaler, scaler_filename)\n",
        "print(f\"Objeto Scaler salvo com sucesso em: '{os.path.abspath(scaler_filename)}'\")"
      ],
      "metadata": {
        "colab": {
          "base_uri": "https://localhost:8080/",
          "height": 0
        },
        "id": "GTRj6-hn44zT",
        "outputId": "e7f551d0-3b5a-48ba-d93a-ce9f6274c3b3"
      },
      "execution_count": 125,
      "outputs": [
        {
          "output_type": "stream",
          "name": "stdout",
          "text": [
            "Objeto Scaler salvo com sucesso em: '/content/scaler.joblib'\n"
          ]
        }
      ]
    },
    {
      "cell_type": "markdown",
      "source": [
        "# **Previsão do modelo**"
      ],
      "metadata": {
        "id": "Fiko6nst_A8q"
      }
    },
    {
      "cell_type": "code",
      "source": [
        "model_filename = 'modelo_huber_final.joblib'\n",
        "new_data_filename = 'Horas_Sem_INFOS.xlsx'\n",
        "output_filename = 'previsoes_resultado.xlsx'"
      ],
      "metadata": {
        "id": "n23U94Pf_Ggm"
      },
      "execution_count": 132,
      "outputs": []
    },
    {
      "cell_type": "code",
      "source": [
        "try:\n",
        "    modelo_carregado = joblib.load(model_filename)\n",
        "    print(f\"Modelo '{model_filename}' carregado com sucesso.\")\n",
        "except FileNotFoundError:\n",
        "    print(f\"ERRO: O arquivo do modelo '{model_filename}' não foi encontrado.\")\n",
        "    print(\"Certifique-se de que ele está na mesma pasta que este script.\")\n",
        "    exit() # Interrompe a execução se o modelo não for encontrado"
      ],
      "metadata": {
        "colab": {
          "base_uri": "https://localhost:8080/"
        },
        "id": "uggKbLGE_IsX",
        "outputId": "aeeb6bdf-9217-4901-da9c-f2a7b656237a"
      },
      "execution_count": 133,
      "outputs": [
        {
          "output_type": "stream",
          "name": "stdout",
          "text": [
            "Modelo 'modelo_huber_final.joblib' carregado com sucesso.\n"
          ]
        }
      ]
    },
    {
      "cell_type": "code",
      "source": [
        "try:\n",
        "    df_novos_dados = pd.read_excel(new_data_filename)\n",
        "    print(f\"Arquivo de novos dados '{new_data_filename}' carregado. Contém {len(df_novos_dados)} linhas.\")\n",
        "except FileNotFoundError:\n",
        "    print(f\"ERRO: O arquivo de dados '{new_data_filename}' não foi encontrado.\")\n",
        "    exit()"
      ],
      "metadata": {
        "colab": {
          "base_uri": "https://localhost:8080/"
        },
        "id": "q0JuGuvF_XoY",
        "outputId": "911843c7-040c-4063-bc5b-40996c4b5947"
      },
      "execution_count": 134,
      "outputs": [
        {
          "output_type": "stream",
          "name": "stdout",
          "text": [
            "Arquivo de novos dados 'Horas_Sem_INFOS.xlsx' carregado. Contém 10743 linhas.\n"
          ]
        }
      ]
    },
    {
      "cell_type": "code",
      "source": [
        "if 'HET' not in df_novos_dados.columns:\n",
        "    df_novos_dados['HET'] = None"
      ],
      "metadata": {
        "id": "BnjonoJVAHTY"
      },
      "execution_count": 136,
      "outputs": []
    },
    {
      "cell_type": "code",
      "source": [
        "colunas_preditoras = [col for col in df_novos_dados.columns if col not in ['ID', 'HET']]\n",
        "X_novos = df_novos_dados[colunas_preditoras].copy()"
      ],
      "metadata": {
        "id": "xkGYGfDRAfoy"
      },
      "execution_count": 137,
      "outputs": []
    },
    {
      "cell_type": "code",
      "source": [
        "X_novos.fillna(0, inplace=True)\n",
        "print(\"Pré-processamento dos novos dados concluído.\")"
      ],
      "metadata": {
        "colab": {
          "base_uri": "https://localhost:8080/"
        },
        "id": "mNaSPUIvAhRZ",
        "outputId": "9e888425-6e35-4ccd-8911-377dc15acca6"
      },
      "execution_count": 138,
      "outputs": [
        {
          "output_type": "stream",
          "name": "stdout",
          "text": [
            "Pré-processamento dos novos dados concluído.\n"
          ]
        }
      ]
    },
    {
      "cell_type": "code",
      "source": [
        "print(\"Realizando as previsões...\")\n",
        "previsoes = modelo_carregado.predict(X_novos)\n",
        "print(\"Previsões concluídas.\")"
      ],
      "metadata": {
        "colab": {
          "base_uri": "https://localhost:8080/"
        },
        "id": "22EXb6_9AjSu",
        "outputId": "3c8ddbb6-2587-4fb2-94fc-5f89e5806b86"
      },
      "execution_count": 139,
      "outputs": [
        {
          "output_type": "stream",
          "name": "stdout",
          "text": [
            "Realizando as previsões...\n",
            "Previsões concluídas.\n"
          ]
        }
      ]
    },
    {
      "cell_type": "code",
      "source": [
        "df_novos_dados['HET'] = previsoes"
      ],
      "metadata": {
        "id": "dTEinMB_Aksn"
      },
      "execution_count": 140,
      "outputs": []
    },
    {
      "cell_type": "code",
      "source": [
        "df_novos_dados.to_excel(output_filename, index=False)"
      ],
      "metadata": {
        "id": "mekydwcuAl7s"
      },
      "execution_count": 141,
      "outputs": []
    },
    {
      "cell_type": "code",
      "source": [
        "print(df_novos_dados[['ID', 'HET']].head())"
      ],
      "metadata": {
        "colab": {
          "base_uri": "https://localhost:8080/"
        },
        "id": "Vhgqy4AiA48h",
        "outputId": "688db042-249c-419b-a687-36bb0d5c000a"
      },
      "execution_count": 142,
      "outputs": [
        {
          "output_type": "stream",
          "name": "stdout",
          "text": [
            "      ID        HET\n",
            "0  10000  19.975767\n",
            "1  10001  10.361186\n",
            "2  10002  32.652237\n",
            "3  10003   7.989860\n",
            "4  10004  46.363917\n"
          ]
        }
      ]
    }
  ]
}